{
 "cells": [
  {
   "cell_type": "code",
   "execution_count": 1,
   "metadata": {},
   "outputs": [],
   "source": [
    "import numpy as np\n",
    "import matplotlib.pyplot as plt\n",
    "import urllib.request\n",
    "import json\n",
    "from pprint import pprint"
   ]
  },
  {
   "cell_type": "code",
   "execution_count": 2,
   "metadata": {},
   "outputs": [],
   "source": [
    "def get_data(url):\n",
    "    req = urllib.request.Request(url)\n",
    "    req.add_header('Accept', f\"application/json\")\n",
    "    response = urllib.request.urlopen(req).read()\n",
    "\n",
    "    result = json.loads(response)\n",
    "    return result"
   ]
  },
  {
   "cell_type": "code",
   "execution_count": 3,
   "metadata": {},
   "outputs": [],
   "source": [
    "url = 'https://fintual.cl/api/asset_providers'\n",
    "asset_providers = get_data(url)"
   ]
  },
  {
   "cell_type": "code",
   "execution_count": 4,
   "metadata": {},
   "outputs": [],
   "source": [
    "conceptual_assets = get_data('https://fintual.cl/api/conceptual_assets')"
   ]
  },
  {
   "cell_type": "markdown",
   "metadata": {},
   "source": [
    "### Example conceptual asset"
   ]
  },
  {
   "cell_type": "code",
   "execution_count": 5,
   "metadata": {
    "scrolled": false
   },
   "outputs": [
    {
     "name": "stdout",
     "output_type": "stream",
     "text": [
      "{'attributes': {'category': 'currency',\n",
      "                'currency': 'CLP',\n",
      "                'data_source': 'https://www.bcentral.cl',\n",
      "                'max_scale': 4,\n",
      "                'name': 'Dólar Observado',\n",
      "                'run': '',\n",
      "                'symbol': 'USDCLP'},\n",
      " 'id': '25',\n",
      " 'type': 'conceptual_asset'}\n"
     ]
    }
   ],
   "source": [
    "pprint(conceptual_assets['data'][0])"
   ]
  },
  {
   "cell_type": "code",
   "execution_count": 6,
   "metadata": {
    "scrolled": false
   },
   "outputs": [
    {
     "name": "stdout",
     "output_type": "stream",
     "text": [
      "'Dólar Observado'\n"
     ]
    }
   ],
   "source": [
    "pprint(conceptual_assets['data'][0]['attributes']['name'])"
   ]
  },
  {
   "cell_type": "markdown",
   "metadata": {},
   "source": [
    "## Search \"Santander go ESG\" by name substring"
   ]
  },
  {
   "cell_type": "markdown",
   "metadata": {},
   "source": [
    "Búsqueda de conceptual_assets por nombre substring"
   ]
  },
  {
   "cell_type": "code",
   "execution_count": 7,
   "metadata": {
    "scrolled": true
   },
   "outputs": [],
   "source": [
    "def get_conceptual_assets_matches(name):\n",
    "    return [asset for asset in conceptual_assets['data'] if name.upper() in asset['attributes']['name'].upper()]"
   ]
  },
  {
   "cell_type": "code",
   "execution_count": 8,
   "metadata": {},
   "outputs": [
    {
     "data": {
      "text/plain": [
       "[{'id': '1925',\n",
       "  'type': 'conceptual_asset',\n",
       "  'attributes': {'name': 'FONDO MUTUO SANTANDER GO ACCIONES GLOBALES ESG',\n",
       "   'symbol': 'FFMM-SANTANDER-8090',\n",
       "   'category': 'mutual_fund',\n",
       "   'currency': None,\n",
       "   'max_scale': 4,\n",
       "   'run': '8090',\n",
       "   'data_source': 'http://www.cmfchile.cl'}}]"
      ]
     },
     "execution_count": 8,
     "metadata": {},
     "output_type": "execute_result"
    }
   ],
   "source": [
    "name = 'FONDO MUTUO SANTANDER GO ACCIONES GLOBALES ESG'\n",
    "matches = get_conceptual_assets_matches(name)\n",
    "matches"
   ]
  },
  {
   "cell_type": "markdown",
   "metadata": {},
   "source": [
    "### Get found asset attributes and last day"
   ]
  },
  {
   "cell_type": "markdown",
   "metadata": {},
   "source": [
    "Series del último día de todos los real assets de un conceptual asset"
   ]
  },
  {
   "cell_type": "code",
   "execution_count": 9,
   "metadata": {
    "scrolled": false
   },
   "outputs": [
    {
     "name": "stdout",
     "output_type": "stream",
     "text": [
      "[{'attributes': {'end_date': None,\n",
      "                 'last_day': {'date': '2020-04-08',\n",
      "                              'fixed_fee': 2.732301291966082e-05,\n",
      "                              'fixed_management_fee': 64924.0,\n",
      "                              'institutional_investors': 1.0,\n",
      "                              'iva_exclusive_expenses': 3255.0,\n",
      "                              'iva_inclusive_expenses': 0.0,\n",
      "                              'net_asset_value': 1989.6946,\n",
      "                              'new_shares': 0.0,\n",
      "                              'outstanding_shares': 1194236.3059,\n",
      "                              'purchase_fee': 0.0,\n",
      "                              'redeemed_shares': 0.0,\n",
      "                              'redemption_fee': 0.0,\n",
      "                              'shareholders': 273.0,\n",
      "                              'total_assets': 56384128081.0,\n",
      "                              'total_net_assets': 2376165476.0,\n",
      "                              'variable_management_fee': 0.0},\n",
      "                 'name': 'FONDO MUTUO SANTANDER GO ACCIONES GLOBALES ESG',\n",
      "                 'previous_asset_id': 11398,\n",
      "                 'serie': 'APV',\n",
      "                 'start_date': '2006-01-22',\n",
      "                 'symbol': 'FFMM-SANTANDER-8090-APV'},\n",
      "  'id': '11401',\n",
      "  'type': 'real_asset'}]\n"
     ]
    }
   ],
   "source": [
    "#get /conceptual_assts/{conceptual_asset_id}/real_assets\n",
    "series = get_data(f'https://fintual.cl/api/conceptual_assets/{matches[0][\"id\"]}/real_assets')\n",
    "\n",
    "apv_series = [s for s in series['data']  if s['attributes']['serie'] == 'APV']\n",
    "pprint(apv_series)"
   ]
  },
  {
   "cell_type": "code",
   "execution_count": 10,
   "metadata": {},
   "outputs": [
    {
     "name": "stdout",
     "output_type": "stream",
     "text": [
      "current_id 11401\n",
      "previous_id 11398\n",
      "start_date 2006-01-22\n"
     ]
    }
   ],
   "source": [
    "current_series = apv_series[0]\n",
    "current_id = current_series['id']\n",
    "previous_id = current_series['attributes']['previous_asset_id']\n",
    "start_date = current_series['attributes']['start_date']\n",
    "print('current_id', current_id)\n",
    "print('previous_id', previous_id)\n",
    "print('start_date', start_date)"
   ]
  },
  {
   "cell_type": "markdown",
   "metadata": {},
   "source": [
    "### Check previous asset id"
   ]
  },
  {
   "cell_type": "code",
   "execution_count": 11,
   "metadata": {},
   "outputs": [],
   "source": [
    "previous_series = get_data(f'https://fintual.cl/api/conceptual_assets/{previous_id}/real_assets')"
   ]
  },
  {
   "cell_type": "code",
   "execution_count": 12,
   "metadata": {},
   "outputs": [
    {
     "name": "stdout",
     "output_type": "stream",
     "text": [
      "{'data': []}\n"
     ]
    }
   ],
   "source": [
    "pprint(previous_series)"
   ]
  },
  {
   "cell_type": "markdown",
   "metadata": {},
   "source": [
    "### Get results for current id from start_date to now"
   ]
  },
  {
   "cell_type": "code",
   "execution_count": 13,
   "metadata": {},
   "outputs": [],
   "source": [
    "import asyncio\n",
    "\n",
    "async def get_one_month_asset(year, month):\n",
    "    print('requesting', year, str(month).zfill(2))\n",
    "    return get_data(f'https://fintual.cl/api/real_assets/11401/days?date={year}%2F{str(month).zfill(2)}%2F01')\n",
    "\n",
    "async def get_monthly_assets(from_year, from_month, to_year, to_month):\n",
    "    from_number = from_year*12 + from_month\n",
    "    to_number = to_year*12 + to_month\n",
    "    tasks = []\n",
    "    for month in range(from_number, to_number +1 ):\n",
    "        current_year = int(month / 12 )\n",
    "        current_month = month % 12 \n",
    "        task = asyncio.get_event_loop().create_task(get_one_month_asset(current_year, current_month))\n",
    "        tasks.append(task)\n",
    "        \n",
    "    results = await asyncio.gather(*tasks)\n",
    "    return results\n",
    "\n"
   ]
  },
  {
   "cell_type": "code",
   "execution_count": 74,
   "metadata": {
    "scrolled": true
   },
   "outputs": [
    {
     "name": "stdout",
     "output_type": "stream",
     "text": [
      "requesting 2019 01\n",
      "requesting 2019 02\n",
      "requesting 2019 03\n",
      "requesting 2019 04\n",
      "requesting 2019 05\n",
      "requesting 2019 06\n",
      "requesting 2019 07\n",
      "requesting 2019 08\n",
      "requesting 2019 09\n",
      "requesting 2019 10\n",
      "requesting 2019 11\n",
      "requesting 2020 00\n",
      "requesting 2020 01\n",
      "requesting 2020 02\n",
      "requesting 2020 03\n",
      "requesting 2020 04\n"
     ]
    }
   ],
   "source": [
    "results = await get_monthly_assets(2019, 1, 2020, 4)"
   ]
  },
  {
   "cell_type": "code",
   "execution_count": 75,
   "metadata": {
    "scrolled": true
   },
   "outputs": [],
   "source": [
    "processed_results = [s['data'][0]['attributes'] for s in results if len(s['data']) > 0]"
   ]
  },
  {
   "cell_type": "code",
   "execution_count": 76,
   "metadata": {},
   "outputs": [],
   "source": [
    "import pandas as pd"
   ]
  },
  {
   "cell_type": "code",
   "execution_count": 77,
   "metadata": {},
   "outputs": [],
   "source": [
    "results_df = pd.DataFrame(processed_results)"
   ]
  },
  {
   "cell_type": "code",
   "execution_count": 86,
   "metadata": {},
   "outputs": [
    {
     "data": {
      "text/plain": [
       "1728.8042"
      ]
     },
     "execution_count": 86,
     "metadata": {},
     "output_type": "execute_result"
    }
   ],
   "source": [
    "results_df['price'][0]"
   ]
  },
  {
   "cell_type": "code",
   "execution_count": 91,
   "metadata": {},
   "outputs": [
    {
     "data": {
      "text/html": [
       "<div>\n",
       "<style scoped>\n",
       "    .dataframe tbody tr th:only-of-type {\n",
       "        vertical-align: middle;\n",
       "    }\n",
       "\n",
       "    .dataframe tbody tr th {\n",
       "        vertical-align: top;\n",
       "    }\n",
       "\n",
       "    .dataframe thead th {\n",
       "        text-align: right;\n",
       "    }\n",
       "</style>\n",
       "<table border=\"1\" class=\"dataframe\">\n",
       "  <thead>\n",
       "    <tr style=\"text-align: right;\">\n",
       "      <th></th>\n",
       "      <th>date</th>\n",
       "      <th>price</th>\n",
       "      <th>return</th>\n",
       "    </tr>\n",
       "  </thead>\n",
       "  <tbody>\n",
       "    <tr>\n",
       "      <th>0</th>\n",
       "      <td>2019-01-01</td>\n",
       "      <td>1728.8042</td>\n",
       "      <td>0.000000</td>\n",
       "    </tr>\n",
       "    <tr>\n",
       "      <th>1</th>\n",
       "      <td>2019-02-01</td>\n",
       "      <td>1765.7282</td>\n",
       "      <td>2.135812</td>\n",
       "    </tr>\n",
       "    <tr>\n",
       "      <th>2</th>\n",
       "      <td>2019-03-01</td>\n",
       "      <td>1815.0217</td>\n",
       "      <td>4.987118</td>\n",
       "    </tr>\n",
       "    <tr>\n",
       "      <th>3</th>\n",
       "      <td>2019-04-01</td>\n",
       "      <td>1883.0797</td>\n",
       "      <td>8.923827</td>\n",
       "    </tr>\n",
       "    <tr>\n",
       "      <th>4</th>\n",
       "      <td>2019-05-01</td>\n",
       "      <td>1952.3143</td>\n",
       "      <td>12.928595</td>\n",
       "    </tr>\n",
       "    <tr>\n",
       "      <th>5</th>\n",
       "      <td>2019-07-01</td>\n",
       "      <td>1952.9095</td>\n",
       "      <td>12.963024</td>\n",
       "    </tr>\n",
       "    <tr>\n",
       "      <th>6</th>\n",
       "      <td>2019-08-01</td>\n",
       "      <td>2018.4703</td>\n",
       "      <td>16.755287</td>\n",
       "    </tr>\n",
       "    <tr>\n",
       "      <th>7</th>\n",
       "      <td>2019-09-01</td>\n",
       "      <td>2012.0157</td>\n",
       "      <td>16.381930</td>\n",
       "    </tr>\n",
       "    <tr>\n",
       "      <th>8</th>\n",
       "      <td>2019-10-01</td>\n",
       "      <td>2072.9838</td>\n",
       "      <td>19.908536</td>\n",
       "    </tr>\n",
       "    <tr>\n",
       "      <th>9</th>\n",
       "      <td>2019-11-01</td>\n",
       "      <td>2146.7795</td>\n",
       "      <td>24.177134</td>\n",
       "    </tr>\n",
       "    <tr>\n",
       "      <th>10</th>\n",
       "      <td>2020-01-01</td>\n",
       "      <td>2301.9641</td>\n",
       "      <td>33.153546</td>\n",
       "    </tr>\n",
       "    <tr>\n",
       "      <th>11</th>\n",
       "      <td>2020-02-01</td>\n",
       "      <td>2443.2566</td>\n",
       "      <td>41.326392</td>\n",
       "    </tr>\n",
       "    <tr>\n",
       "      <th>12</th>\n",
       "      <td>2020-03-01</td>\n",
       "      <td>2300.6673</td>\n",
       "      <td>33.078535</td>\n",
       "    </tr>\n",
       "    <tr>\n",
       "      <th>13</th>\n",
       "      <td>2020-04-01</td>\n",
       "      <td>1969.1563</td>\n",
       "      <td>13.902795</td>\n",
       "    </tr>\n",
       "  </tbody>\n",
       "</table>\n",
       "</div>"
      ],
      "text/plain": [
       "          date      price     return\n",
       "0   2019-01-01  1728.8042   0.000000\n",
       "1   2019-02-01  1765.7282   2.135812\n",
       "2   2019-03-01  1815.0217   4.987118\n",
       "3   2019-04-01  1883.0797   8.923827\n",
       "4   2019-05-01  1952.3143  12.928595\n",
       "5   2019-07-01  1952.9095  12.963024\n",
       "6   2019-08-01  2018.4703  16.755287\n",
       "7   2019-09-01  2012.0157  16.381930\n",
       "8   2019-10-01  2072.9838  19.908536\n",
       "9   2019-11-01  2146.7795  24.177134\n",
       "10  2020-01-01  2301.9641  33.153546\n",
       "11  2020-02-01  2443.2566  41.326392\n",
       "12  2020-03-01  2300.6673  33.078535\n",
       "13  2020-04-01  1969.1563  13.902795"
      ]
     },
     "execution_count": 91,
     "metadata": {},
     "output_type": "execute_result"
    }
   ],
   "source": [
    "results_df['return']  = results_df['price']/results_df['price'][0] * 100 - 100\n",
    "results_df[['date', 'price', 'return']]"
   ]
  },
  {
   "cell_type": "code",
   "execution_count": 93,
   "metadata": {},
   "outputs": [
    {
     "data": {
      "text/plain": [
       "Index(['date', 'price', 'net_asset_value', 'net_asset_value_type',\n",
       "       'fixed_management_fee', 'fixed_management_fee_type',\n",
       "       'variable_management_fee', 'variable_management_fee_type',\n",
       "       'iva_inclusive_expenses', 'iva_inclusive_expenses_type',\n",
       "       'iva_exclusive_expenses', 'iva_exclusive_expenses_type', 'purchase_fee',\n",
       "       'purchase_fee_type', 'redemption_fee', 'redemption_fee_type',\n",
       "       'total_net_assets', 'total_net_assets_type', 'new_shares',\n",
       "       'new_shares_type', 'redeemed_shares', 'redeemed_shares_type',\n",
       "       'outstanding_shares', 'outstanding_shares_type', 'fixed_fee',\n",
       "       'fixed_fee_type', 'total_assets', 'total_assets_type', 'shareholders',\n",
       "       'shareholders_type', 'institutional_investors',\n",
       "       'institutional_investors_type', 'return'],\n",
       "      dtype='object')"
      ]
     },
     "execution_count": 93,
     "metadata": {},
     "output_type": "execute_result"
    }
   ],
   "source": [
    "results_df.columns"
   ]
  },
  {
   "cell_type": "code",
   "execution_count": 94,
   "metadata": {},
   "outputs": [
    {
     "data": {
      "text/plain": [
       "'2019-01-01'"
      ]
     },
     "execution_count": 94,
     "metadata": {},
     "output_type": "execute_result"
    }
   ],
   "source": [
    "results_df['date'][0]"
   ]
  },
  {
   "cell_type": "code",
   "execution_count": 101,
   "metadata": {},
   "outputs": [
    {
     "data": {
      "text/html": [
       "\n",
       "<div id=\"altair-viz-4f152d22f0da4bfaa6f12a9384c35b56\"></div>\n",
       "<script type=\"text/javascript\">\n",
       "  (function(spec, embedOpt){\n",
       "    let outputDiv = document.currentScript.previousElementSibling;\n",
       "    if (outputDiv.id !== \"altair-viz-4f152d22f0da4bfaa6f12a9384c35b56\") {\n",
       "      outputDiv = document.getElementById(\"altair-viz-4f152d22f0da4bfaa6f12a9384c35b56\");\n",
       "    }\n",
       "    const paths = {\n",
       "      \"vega\": \"https://cdn.jsdelivr.net/npm//vega@5?noext\",\n",
       "      \"vega-lib\": \"https://cdn.jsdelivr.net/npm//vega-lib?noext\",\n",
       "      \"vega-lite\": \"https://cdn.jsdelivr.net/npm//vega-lite@4.8.1?noext\",\n",
       "      \"vega-embed\": \"https://cdn.jsdelivr.net/npm//vega-embed@6?noext\",\n",
       "    };\n",
       "\n",
       "    function loadScript(lib) {\n",
       "      return new Promise(function(resolve, reject) {\n",
       "        var s = document.createElement('script');\n",
       "        s.src = paths[lib];\n",
       "        s.async = true;\n",
       "        s.onload = () => resolve(paths[lib]);\n",
       "        s.onerror = () => reject(`Error loading script: ${paths[lib]}`);\n",
       "        document.getElementsByTagName(\"head\")[0].appendChild(s);\n",
       "      });\n",
       "    }\n",
       "\n",
       "    function showError(err) {\n",
       "      outputDiv.innerHTML = `<div class=\"error\" style=\"color:red;\">${err}</div>`;\n",
       "      throw err;\n",
       "    }\n",
       "\n",
       "    function displayChart(vegaEmbed) {\n",
       "      vegaEmbed(outputDiv, spec, embedOpt)\n",
       "        .catch(err => showError(`Javascript Error: ${err.message}<br>This usually means there's a typo in your chart specification. See the javascript console for the full traceback.`));\n",
       "    }\n",
       "\n",
       "    if(typeof define === \"function\" && define.amd) {\n",
       "      requirejs.config({paths});\n",
       "      require([\"vega-embed\"], displayChart, err => showError(`Error loading script: ${err.message}`));\n",
       "    } else if (typeof vegaEmbed === \"function\") {\n",
       "      displayChart(vegaEmbed);\n",
       "    } else {\n",
       "      loadScript(\"vega\")\n",
       "        .then(() => loadScript(\"vega-lite\"))\n",
       "        .then(() => loadScript(\"vega-embed\"))\n",
       "        .catch(showError)\n",
       "        .then(() => displayChart(vegaEmbed));\n",
       "    }\n",
       "  })({\"config\": {\"view\": {\"continuousWidth\": 400, \"continuousHeight\": 300}}, \"data\": {\"name\": \"data-9769ad0e6961bd346697b9510b3ad7cd\"}, \"mark\": \"point\", \"encoding\": {\"tooltip\": [{\"type\": \"temporal\", \"field\": \"date\"}, {\"type\": \"quantitative\", \"field\": \"price\"}, {\"type\": \"quantitative\", \"field\": \"return\"}], \"x\": {\"type\": \"temporal\", \"field\": \"date\"}, \"y\": {\"type\": \"quantitative\", \"field\": \"return\"}}, \"selection\": {\"selector022\": {\"type\": \"interval\", \"bind\": \"scales\", \"encodings\": [\"x\", \"y\"]}}, \"$schema\": \"https://vega.github.io/schema/vega-lite/v4.8.1.json\", \"datasets\": {\"data-9769ad0e6961bd346697b9510b3ad7cd\": [{\"date\": \"2019-01-01\", \"price\": 1728.8042, \"net_asset_value\": 1728.8042, \"net_asset_value_type\": \"clp\", \"fixed_management_fee\": 125196.0, \"fixed_management_fee_type\": \"clp\", \"variable_management_fee\": 0.0, \"variable_management_fee_type\": \"clp\", \"iva_inclusive_expenses\": 3312.0, \"iva_inclusive_expenses_type\": \"clp\", \"iva_exclusive_expenses\": 0.0, \"iva_exclusive_expenses_type\": \"clp\", \"purchase_fee\": 0.0, \"purchase_fee_type\": \"clp\", \"redemption_fee\": 0.0, \"redemption_fee_type\": \"clp\", \"total_net_assets\": 2417681205.0, \"total_net_assets_type\": \"clp\", \"new_shares\": 0.0, \"new_shares_type\": \"decimal\", \"redeemed_shares\": 0.0, \"redeemed_shares_type\": \"decimal\", \"outstanding_shares\": 1398470.2352, \"outstanding_shares_type\": \"decimal\", \"fixed_fee\": 5.178350220082056e-05, \"fixed_fee_type\": \"decimal\", \"total_assets\": 82656087454.0, \"total_assets_type\": \"integer\", \"shareholders\": 297.0, \"shareholders_type\": \"integer\", \"institutional_investors\": 1.0, \"institutional_investors_type\": \"integer\", \"return\": 0.0}, {\"date\": \"2019-02-01\", \"price\": 1765.7282, \"net_asset_value\": 1765.7282, \"net_asset_value_type\": \"clp\", \"fixed_management_fee\": 125250.0, \"fixed_management_fee_type\": \"clp\", \"variable_management_fee\": 0.0, \"variable_management_fee_type\": \"clp\", \"iva_inclusive_expenses\": 3313.0, \"iva_inclusive_expenses_type\": \"clp\", \"iva_exclusive_expenses\": 0.0, \"iva_exclusive_expenses_type\": \"clp\", \"purchase_fee\": 0.0, \"purchase_fee_type\": \"clp\", \"redemption_fee\": 0.0, \"redemption_fee_type\": \"clp\", \"total_net_assets\": 2418716896.0, \"total_net_assets_type\": \"clp\", \"new_shares\": 0.0, \"new_shares_type\": \"decimal\", \"redeemed_shares\": 0.0, \"redeemed_shares_type\": \"decimal\", \"outstanding_shares\": 1369812.7187, \"outstanding_shares_type\": \"decimal\", \"fixed_fee\": 5.178365446867082e-05, \"fixed_fee_type\": \"decimal\", \"total_assets\": 82097069987.0, \"total_assets_type\": \"integer\", \"shareholders\": 292.0, \"shareholders_type\": \"integer\", \"institutional_investors\": 1.0, \"institutional_investors_type\": \"integer\", \"return\": 2.1358115626974836}, {\"date\": \"2019-03-01\", \"price\": 1815.0217, \"net_asset_value\": 1815.0217, \"net_asset_value_type\": \"clp\", \"fixed_management_fee\": 128753.0, \"fixed_management_fee_type\": \"clp\", \"variable_management_fee\": 0.0, \"variable_management_fee_type\": \"clp\", \"iva_inclusive_expenses\": 0.0, \"iva_inclusive_expenses_type\": \"clp\", \"iva_exclusive_expenses\": 3406.0, \"iva_exclusive_expenses_type\": \"clp\", \"purchase_fee\": 0.0, \"purchase_fee_type\": \"clp\", \"redemption_fee\": 0.0, \"redemption_fee_type\": \"clp\", \"total_net_assets\": 2486124590.0, \"total_net_assets_type\": \"clp\", \"new_shares\": 0.0, \"new_shares_type\": \"decimal\", \"redeemed_shares\": 130.9122, \"redeemed_shares_type\": \"decimal\", \"outstanding_shares\": 1369749.2447, \"outstanding_shares_type\": \"decimal\", \"fixed_fee\": 5.17836862539636e-05, \"fixed_fee_type\": \"decimal\", \"total_assets\": 81026768293.0, \"total_assets_type\": \"integer\", \"shareholders\": 291.0, \"shareholders_type\": \"integer\", \"institutional_investors\": 1.0, \"institutional_investors_type\": \"integer\", \"return\": 4.987117685160641}, {\"date\": \"2019-04-01\", \"price\": 1883.0797, \"net_asset_value\": 1883.0797, \"net_asset_value_type\": \"clp\", \"fixed_management_fee\": 132889.0, \"fixed_management_fee_type\": \"clp\", \"variable_management_fee\": 0.0, \"variable_management_fee_type\": \"clp\", \"iva_inclusive_expenses\": 0.0, \"iva_inclusive_expenses_type\": \"clp\", \"iva_exclusive_expenses\": 3516.0, \"iva_exclusive_expenses_type\": \"clp\", \"purchase_fee\": 0.0, \"purchase_fee_type\": \"clp\", \"redemption_fee\": 0.0, \"redemption_fee_type\": \"clp\", \"total_net_assets\": 2568317874.0, \"total_net_assets_type\": \"clp\", \"new_shares\": 1097.4936, \"new_shares_type\": \"decimal\", \"redeemed_shares\": 0.0, \"redeemed_shares_type\": \"decimal\", \"outstanding_shares\": 1363892.2842, \"outstanding_shares_type\": \"decimal\", \"fixed_fee\": 5.178331711451619e-05, \"fixed_fee_type\": \"decimal\", \"total_assets\": 79578591603.0, \"total_assets_type\": \"integer\", \"shareholders\": 290.0, \"shareholders_type\": \"integer\", \"institutional_investors\": 1.0, \"institutional_investors_type\": \"integer\", \"return\": 8.923827232719589}, {\"date\": \"2019-05-01\", \"price\": 1952.3143, \"net_asset_value\": 1952.3143, \"net_asset_value_type\": \"clp\", \"fixed_management_fee\": 139245.0, \"fixed_management_fee_type\": \"clp\", \"variable_management_fee\": 0.0, \"variable_management_fee_type\": \"clp\", \"iva_inclusive_expenses\": 0.0, \"iva_inclusive_expenses_type\": \"clp\", \"iva_exclusive_expenses\": 3684.0, \"iva_exclusive_expenses_type\": \"clp\", \"purchase_fee\": 0.0, \"purchase_fee_type\": \"clp\", \"redemption_fee\": 0.0, \"redemption_fee_type\": \"clp\", \"total_net_assets\": 2688985558.0, \"total_net_assets_type\": \"clp\", \"new_shares\": 0.0, \"new_shares_type\": \"decimal\", \"redeemed_shares\": 0.0, \"redeemed_shares_type\": \"decimal\", \"outstanding_shares\": 1377332.2911, \"outstanding_shares_type\": \"decimal\", \"fixed_fee\": 5.178346889433164e-05, \"fixed_fee_type\": \"decimal\", \"total_assets\": 78109110023.0, \"total_assets_type\": \"integer\", \"shareholders\": 290.0, \"shareholders_type\": \"integer\", \"institutional_investors\": 1.0, \"institutional_investors_type\": \"integer\", \"return\": 12.92859538402324}, {\"date\": \"2019-07-01\", \"price\": 1952.9095, \"net_asset_value\": 1952.9095, \"net_asset_value_type\": \"clp\", \"fixed_management_fee\": 134341.0, \"fixed_management_fee_type\": \"clp\", \"variable_management_fee\": 0.0, \"variable_management_fee_type\": \"clp\", \"iva_inclusive_expenses\": 0.0, \"iva_inclusive_expenses_type\": \"clp\", \"iva_exclusive_expenses\": 3554.0, \"iva_exclusive_expenses_type\": \"clp\", \"purchase_fee\": 0.0, \"purchase_fee_type\": \"clp\", \"redemption_fee\": 0.0, \"redemption_fee_type\": \"clp\", \"total_net_assets\": 2594340529.0, \"total_net_assets_type\": \"clp\", \"new_shares\": 34.1378, \"new_shares_type\": \"decimal\", \"redeemed_shares\": 0.0, \"redeemed_shares_type\": \"decimal\", \"outstanding_shares\": 1328448.917, \"outstanding_shares_type\": \"decimal\", \"fixed_fee\": 5.178366171024512e-05, \"fixed_fee_type\": \"decimal\", \"total_assets\": 73814705578.0, \"total_assets_type\": \"integer\", \"shareholders\": 283.0, \"shareholders_type\": \"integer\", \"institutional_investors\": 1.0, \"institutional_investors_type\": \"integer\", \"return\": 12.963023805703372}, {\"date\": \"2019-08-01\", \"price\": 2018.4703, \"net_asset_value\": 2018.4703, \"net_asset_value_type\": \"clp\", \"fixed_management_fee\": 139657.0, \"fixed_management_fee_type\": \"clp\", \"variable_management_fee\": 0.0, \"variable_management_fee_type\": \"clp\", \"iva_inclusive_expenses\": 0.0, \"iva_inclusive_expenses_type\": \"clp\", \"iva_exclusive_expenses\": 3695.0, \"iva_exclusive_expenses_type\": \"clp\", \"purchase_fee\": 0.0, \"purchase_fee_type\": \"clp\", \"redemption_fee\": 0.0, \"redemption_fee_type\": \"clp\", \"total_net_assets\": 2696937550.0, \"total_net_assets_type\": \"clp\", \"new_shares\": 0.0, \"new_shares_type\": \"decimal\", \"redeemed_shares\": 0.0, \"redeemed_shares_type\": \"decimal\", \"outstanding_shares\": 1336129.3962, \"outstanding_shares_type\": \"decimal\", \"fixed_fee\": 5.178354982672847e-05, \"fixed_fee_type\": \"decimal\", \"total_assets\": 76441118796.0, \"total_assets_type\": \"integer\", \"shareholders\": 282.0, \"shareholders_type\": \"integer\", \"institutional_investors\": 1.0, \"institutional_investors_type\": \"integer\", \"return\": 16.755286688914794}, {\"date\": \"2019-09-01\", \"price\": 2012.0157, \"net_asset_value\": 2012.0157, \"net_asset_value_type\": \"clp\", \"fixed_management_fee\": 136456.0, \"fixed_management_fee_type\": \"clp\", \"variable_management_fee\": 0.0, \"variable_management_fee_type\": \"clp\", \"iva_inclusive_expenses\": 0.0, \"iva_inclusive_expenses_type\": \"clp\", \"iva_exclusive_expenses\": 3610.0, \"iva_exclusive_expenses_type\": \"clp\", \"purchase_fee\": 0.0, \"purchase_fee_type\": \"clp\", \"redemption_fee\": 0.0, \"redemption_fee_type\": \"clp\", \"total_net_assets\": 2635129969.0, \"total_net_assets_type\": \"clp\", \"new_shares\": 0.0, \"new_shares_type\": \"decimal\", \"redeemed_shares\": 0.0, \"redeemed_shares_type\": \"decimal\", \"outstanding_shares\": 1309696.5196, \"outstanding_shares_type\": \"decimal\", \"fixed_fee\": 5.178340408453682e-05, \"fixed_fee_type\": \"decimal\", \"total_assets\": 73963020766.0, \"total_assets_type\": \"integer\", \"shareholders\": 279.0, \"shareholders_type\": \"integer\", \"institutional_investors\": 1.0, \"institutional_investors_type\": \"integer\", \"return\": 16.381930353940604}, {\"date\": \"2019-10-01\", \"price\": 2072.9838, \"net_asset_value\": 2072.9838, \"net_asset_value_type\": \"clp\", \"fixed_management_fee\": 140582.0, \"fixed_management_fee_type\": \"clp\", \"variable_management_fee\": 0.0, \"variable_management_fee_type\": \"clp\", \"iva_inclusive_expenses\": 0.0, \"iva_inclusive_expenses_type\": \"clp\", \"iva_exclusive_expenses\": 3719.0, \"iva_exclusive_expenses_type\": \"clp\", \"purchase_fee\": 0.0, \"purchase_fee_type\": \"clp\", \"redemption_fee\": 0.0, \"redemption_fee_type\": \"clp\", \"total_net_assets\": 2714809858.0, \"total_net_assets_type\": \"clp\", \"new_shares\": 0.0, \"new_shares_type\": \"decimal\", \"redeemed_shares\": 0.0, \"redeemed_shares_type\": \"decimal\", \"outstanding_shares\": 1309614.5861, \"outstanding_shares_type\": \"decimal\", \"fixed_fee\": 5.178336876364769e-05, \"fixed_fee_type\": \"decimal\", \"total_assets\": 73506521246.0, \"total_assets_type\": \"integer\", \"shareholders\": 279.0, \"shareholders_type\": \"integer\", \"institutional_investors\": 1.0, \"institutional_investors_type\": \"integer\", \"return\": 19.908535622484024}, {\"date\": \"2019-11-01\", \"price\": 2146.7795, \"net_asset_value\": 2146.7795, \"net_asset_value_type\": \"clp\", \"fixed_management_fee\": 138898.0, \"fixed_management_fee_type\": \"clp\", \"variable_management_fee\": 0.0, \"variable_management_fee_type\": \"clp\", \"iva_inclusive_expenses\": 0.0, \"iva_inclusive_expenses_type\": \"clp\", \"iva_exclusive_expenses\": 3675.0, \"iva_exclusive_expenses_type\": \"clp\", \"purchase_fee\": 0.0, \"purchase_fee_type\": \"clp\", \"redemption_fee\": 0.0, \"redemption_fee_type\": \"clp\", \"total_net_assets\": 2682280855.0, \"total_net_assets_type\": \"clp\", \"new_shares\": 0.0, \"new_shares_type\": \"decimal\", \"redeemed_shares\": 0.0, \"redeemed_shares_type\": \"decimal\", \"outstanding_shares\": 1249444.022, \"outstanding_shares_type\": \"decimal\", \"fixed_fee\": 5.178354076571896e-05, \"fixed_fee_type\": \"decimal\", \"total_assets\": 79150686505.0, \"total_assets_type\": \"integer\", \"shareholders\": 276.0, \"shareholders_type\": \"integer\", \"institutional_investors\": 1.0, \"institutional_investors_type\": \"integer\", \"return\": 24.177133535422925}, {\"date\": \"2020-01-01\", \"price\": 2301.9641, \"net_asset_value\": 2301.9641, \"net_asset_value_type\": \"clp\", \"fixed_management_fee\": 148720.0, \"fixed_management_fee_type\": \"clp\", \"variable_management_fee\": 0.0, \"variable_management_fee_type\": \"clp\", \"iva_inclusive_expenses\": 0.0, \"iva_inclusive_expenses_type\": \"clp\", \"iva_exclusive_expenses\": 3934.0, \"iva_exclusive_expenses_type\": \"clp\", \"purchase_fee\": 0.0, \"purchase_fee_type\": \"clp\", \"redemption_fee\": 0.0, \"redemption_fee_type\": \"clp\", \"total_net_assets\": 2871950282.0, \"total_net_assets_type\": \"clp\", \"new_shares\": 0.0, \"new_shares_type\": \"decimal\", \"redeemed_shares\": 0.0, \"redeemed_shares_type\": \"decimal\", \"outstanding_shares\": 1247608.6156, \"outstanding_shares_type\": \"decimal\", \"fixed_fee\": 5.178362624593653e-05, \"fixed_fee_type\": \"decimal\", \"total_assets\": 83442004516.0, \"total_assets_type\": \"integer\", \"shareholders\": 278.0, \"shareholders_type\": \"integer\", \"institutional_investors\": 1.0, \"institutional_investors_type\": \"integer\", \"return\": 33.15354624890429}, {\"date\": \"2020-02-01\", \"price\": 2443.2566, \"net_asset_value\": 2443.2566, \"net_asset_value_type\": \"clp\", \"fixed_management_fee\": 157033.0, \"fixed_management_fee_type\": \"clp\", \"variable_management_fee\": 0.0, \"variable_management_fee_type\": \"clp\", \"iva_inclusive_expenses\": 0.0, \"iva_inclusive_expenses_type\": \"clp\", \"iva_exclusive_expenses\": 4154.0, \"iva_exclusive_expenses_type\": \"clp\", \"purchase_fee\": 0.0, \"purchase_fee_type\": \"clp\", \"redemption_fee\": 0.0, \"redemption_fee_type\": \"clp\", \"total_net_assets\": 3032485680.0, \"total_net_assets_type\": \"clp\", \"new_shares\": 0.0, \"new_shares_type\": \"decimal\", \"redeemed_shares\": 0.0, \"redeemed_shares_type\": \"decimal\", \"outstanding_shares\": 1241165.4376, \"outstanding_shares_type\": \"decimal\", \"fixed_fee\": 5.178359160462713e-05, \"fixed_fee_type\": \"decimal\", \"total_assets\": 78586901520.0, \"total_assets_type\": \"integer\", \"shareholders\": 278.0, \"shareholders_type\": \"integer\", \"institutional_investors\": 1.0, \"institutional_investors_type\": \"integer\", \"return\": 41.326391965035725}, {\"date\": \"2020-03-01\", \"price\": 2300.6673, \"net_asset_value\": 2300.6673, \"net_asset_value_type\": \"clp\", \"fixed_management_fee\": 78527.0, \"fixed_management_fee_type\": \"clp\", \"variable_management_fee\": 0.0, \"variable_management_fee_type\": \"clp\", \"iva_inclusive_expenses\": 0.0, \"iva_inclusive_expenses_type\": \"clp\", \"iva_exclusive_expenses\": 3937.0, \"iva_exclusive_expenses_type\": \"clp\", \"purchase_fee\": 0.0, \"purchase_fee_type\": \"clp\", \"redemption_fee\": 0.0, \"redemption_fee_type\": \"clp\", \"total_net_assets\": 2873993519.0, \"total_net_assets_type\": \"clp\", \"new_shares\": 0.0, \"new_shares_type\": \"decimal\", \"redeemed_shares\": 0.0, \"redeemed_shares_type\": \"decimal\", \"outstanding_shares\": 1249199.9843, \"outstanding_shares_type\": \"decimal\", \"fixed_fee\": 2.732330448237173e-05, \"fixed_fee_type\": \"decimal\", \"total_assets\": 74162832929.0, \"total_assets_type\": \"integer\", \"shareholders\": 278.0, \"shareholders_type\": \"integer\", \"institutional_investors\": 1.0, \"institutional_investors_type\": \"integer\", \"return\": 33.078534862421094}, {\"date\": \"2020-04-01\", \"price\": 1969.1563, \"net_asset_value\": 1969.1563, \"net_asset_value_type\": \"clp\", \"fixed_management_fee\": 64993.0, \"fixed_management_fee_type\": \"clp\", \"variable_management_fee\": 0.0, \"variable_management_fee_type\": \"clp\", \"iva_inclusive_expenses\": 0.0, \"iva_inclusive_expenses_type\": \"clp\", \"iva_exclusive_expenses\": 3259.0, \"iva_exclusive_expenses_type\": \"clp\", \"purchase_fee\": 0.0, \"purchase_fee_type\": \"clp\", \"redemption_fee\": 0.0, \"redemption_fee_type\": \"clp\", \"total_net_assets\": 2378689540.0, \"total_net_assets_type\": \"clp\", \"new_shares\": 0.0, \"new_shares_type\": \"decimal\", \"redeemed_shares\": 0.0, \"redeemed_shares_type\": \"decimal\", \"outstanding_shares\": 1207973.9687, \"outstanding_shares_type\": \"decimal\", \"fixed_fee\": 2.732302761965313e-05, \"fixed_fee_type\": \"decimal\", \"total_assets\": 58904696957.0, \"total_assets_type\": \"integer\", \"shareholders\": 273.0, \"shareholders_type\": \"integer\", \"institutional_investors\": 1.0, \"institutional_investors_type\": \"integer\", \"return\": 13.902794775718391}]}}, {\"mode\": \"vega-lite\"});\n",
       "</script>"
      ],
      "text/plain": [
       "alt.Chart(...)"
      ]
     },
     "execution_count": 101,
     "metadata": {},
     "output_type": "execute_result"
    }
   ],
   "source": [
    "import altair as alt\n",
    "\n",
    "alt.Chart(results_df).mark_point().encode(\n",
    "     alt.X('date', type='temporal'),\n",
    "     alt.Y('return', type='quantitative'),\n",
    "     tooltip=['date:T', 'price', 'return']\n",
    ").interactive()"
   ]
  }
 ],
 "metadata": {
  "kernelspec": {
   "display_name": "Python 3",
   "language": "python",
   "name": "python3"
  },
  "language_info": {
   "codemirror_mode": {
    "name": "ipython",
    "version": 3
   },
   "file_extension": ".py",
   "mimetype": "text/x-python",
   "name": "python",
   "nbconvert_exporter": "python",
   "pygments_lexer": "ipython3",
   "version": "3.6.8"
  }
 },
 "nbformat": 4,
 "nbformat_minor": 4
}
