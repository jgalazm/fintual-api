{
 "cells": [
  {
   "cell_type": "code",
   "execution_count": 1,
   "metadata": {},
   "outputs": [],
   "source": [
    "import requests\n",
    "import numpy as np\n",
    "import pandas as pd\n",
    "import altair as alt"
   ]
  },
  {
   "cell_type": "code",
   "execution_count": 2,
   "metadata": {},
   "outputs": [],
   "source": [
    "url = \"https://fintual.cl/api/real_assets/11401/days?to_date=2020-04-08&from_date=2019-04-10\"\n",
    "response = requests.get(url)\n",
    "result = response.json()\n",
    "\n",
    "results_df = pd.DataFrame([a['attributes'] for a in result['data']])"
   ]
  },
  {
   "cell_type": "code",
   "execution_count": 3,
   "metadata": {},
   "outputs": [],
   "source": [
    "r = (results_df['price'].values[1:]/results_df['price'].values[:-1]) * 100\n",
    "r = np.hstack([r, [1]])\n",
    "results_df['ValorBase100'] = r\n",
    "results_df = results_df[:-1]\n",
    "results_df = results_df[['date', 'ValorBase100']]"
   ]
  },
  {
   "cell_type": "code",
   "execution_count": 4,
   "metadata": {},
   "outputs": [
    {
     "data": {
      "text/html": [
       "<div>\n",
       "<style scoped>\n",
       "    .dataframe tbody tr th:only-of-type {\n",
       "        vertical-align: middle;\n",
       "    }\n",
       "\n",
       "    .dataframe tbody tr th {\n",
       "        vertical-align: top;\n",
       "    }\n",
       "\n",
       "    .dataframe thead th {\n",
       "        text-align: right;\n",
       "    }\n",
       "</style>\n",
       "<table border=\"1\" class=\"dataframe\">\n",
       "  <thead>\n",
       "    <tr style=\"text-align: right;\">\n",
       "      <th></th>\n",
       "      <th>date</th>\n",
       "      <th>ValorBase100</th>\n",
       "    </tr>\n",
       "  </thead>\n",
       "  <tbody>\n",
       "    <tr>\n",
       "      <th>0</th>\n",
       "      <td>2019-04-10</td>\n",
       "      <td>100.260856</td>\n",
       "    </tr>\n",
       "    <tr>\n",
       "      <th>1</th>\n",
       "      <td>2019-04-11</td>\n",
       "      <td>99.696032</td>\n",
       "    </tr>\n",
       "    <tr>\n",
       "      <th>2</th>\n",
       "      <td>2019-04-14</td>\n",
       "      <td>100.681939</td>\n",
       "    </tr>\n",
       "    <tr>\n",
       "      <th>3</th>\n",
       "      <td>2019-04-15</td>\n",
       "      <td>100.236147</td>\n",
       "    </tr>\n",
       "    <tr>\n",
       "      <th>4</th>\n",
       "      <td>2019-04-16</td>\n",
       "      <td>99.515989</td>\n",
       "    </tr>\n",
       "  </tbody>\n",
       "</table>\n",
       "</div>"
      ],
      "text/plain": [
       "         date  ValorBase100\n",
       "0  2019-04-10    100.260856\n",
       "1  2019-04-11     99.696032\n",
       "2  2019-04-14    100.681939\n",
       "3  2019-04-15    100.236147\n",
       "4  2019-04-16     99.515989"
      ]
     },
     "execution_count": 4,
     "metadata": {},
     "output_type": "execute_result"
    }
   ],
   "source": [
    "results_df.head()"
   ]
  },
  {
   "cell_type": "code",
   "execution_count": 5,
   "metadata": {},
   "outputs": [
    {
     "data": {
      "text/html": [
       "\n",
       "<div id=\"altair-viz-549dec7e5fed4cdd8b6d5f4390a50640\"></div>\n",
       "<script type=\"text/javascript\">\n",
       "  (function(spec, embedOpt){\n",
       "    let outputDiv = document.currentScript.previousElementSibling;\n",
       "    if (outputDiv.id !== \"altair-viz-549dec7e5fed4cdd8b6d5f4390a50640\") {\n",
       "      outputDiv = document.getElementById(\"altair-viz-549dec7e5fed4cdd8b6d5f4390a50640\");\n",
       "    }\n",
       "    const paths = {\n",
       "      \"vega\": \"https://cdn.jsdelivr.net/npm//vega@5?noext\",\n",
       "      \"vega-lib\": \"https://cdn.jsdelivr.net/npm//vega-lib?noext\",\n",
       "      \"vega-lite\": \"https://cdn.jsdelivr.net/npm//vega-lite@4.8.1?noext\",\n",
       "      \"vega-embed\": \"https://cdn.jsdelivr.net/npm//vega-embed@6?noext\",\n",
       "    };\n",
       "\n",
       "    function loadScript(lib) {\n",
       "      return new Promise(function(resolve, reject) {\n",
       "        var s = document.createElement('script');\n",
       "        s.src = paths[lib];\n",
       "        s.async = true;\n",
       "        s.onload = () => resolve(paths[lib]);\n",
       "        s.onerror = () => reject(`Error loading script: ${paths[lib]}`);\n",
       "        document.getElementsByTagName(\"head\")[0].appendChild(s);\n",
       "      });\n",
       "    }\n",
       "\n",
       "    function showError(err) {\n",
       "      outputDiv.innerHTML = `<div class=\"error\" style=\"color:red;\">${err}</div>`;\n",
       "      throw err;\n",
       "    }\n",
       "\n",
       "    function displayChart(vegaEmbed) {\n",
       "      vegaEmbed(outputDiv, spec, embedOpt)\n",
       "        .catch(err => showError(`Javascript Error: ${err.message}<br>This usually means there's a typo in your chart specification. See the javascript console for the full traceback.`));\n",
       "    }\n",
       "\n",
       "    if(typeof define === \"function\" && define.amd) {\n",
       "      requirejs.config({paths});\n",
       "      require([\"vega-embed\"], displayChart, err => showError(`Error loading script: ${err.message}`));\n",
       "    } else if (typeof vegaEmbed === \"function\") {\n",
       "      displayChart(vegaEmbed);\n",
       "    } else {\n",
       "      loadScript(\"vega\")\n",
       "        .then(() => loadScript(\"vega-lite\"))\n",
       "        .then(() => loadScript(\"vega-embed\"))\n",
       "        .catch(showError)\n",
       "        .then(() => displayChart(vegaEmbed));\n",
       "    }\n",
       "  })({\"config\": {\"view\": {\"continuousWidth\": 400, \"continuousHeight\": 300}}, \"data\": {\"name\": \"data-a47590c4728d7c70547d21fbd84ce24a\"}, \"mark\": \"line\", \"encoding\": {\"tooltip\": [{\"type\": \"nominal\", \"field\": \"date\"}, {\"type\": \"quantitative\", \"field\": \"ValorBase100\"}], \"x\": {\"type\": \"temporal\", \"axis\": {\"format\": \"%y.%m.%d\"}, \"field\": \"date\"}, \"y\": {\"type\": \"quantitative\", \"field\": \"ValorBase100\"}}, \"selection\": {\"selector001\": {\"type\": \"interval\", \"bind\": \"scales\", \"encodings\": [\"x\", \"y\"]}}, \"$schema\": \"https://vega.github.io/schema/vega-lite/v4.8.1.json\", \"datasets\": {\"data-a47590c4728d7c70547d21fbd84ce24a\": [{\"index\": 0, \"date\": \"2019-04-10\", \"ValorBase100\": 100.26085588154679}, {\"index\": 1, \"date\": \"2019-04-11\", \"ValorBase100\": 99.69603175881203}, {\"index\": 2, \"date\": \"2019-04-14\", \"ValorBase100\": 100.68193855087937}, {\"index\": 3, \"date\": \"2019-04-15\", \"ValorBase100\": 100.23614653687368}, {\"index\": 4, \"date\": \"2019-04-16\", \"ValorBase100\": 99.51598923428395}, {\"index\": 5, \"date\": \"2019-04-17\", \"ValorBase100\": 100.35476545262301}, {\"index\": 6, \"date\": \"2019-04-22\", \"ValorBase100\": 100.84617507903897}, {\"index\": 7, \"date\": \"2019-04-23\", \"ValorBase100\": 100.8494045574103}, {\"index\": 8, \"date\": \"2019-04-24\", \"ValorBase100\": 100.27286782937949}, {\"index\": 9, \"date\": \"2019-04-25\", \"ValorBase100\": 99.68667493832699}, {\"index\": 10, \"date\": \"2019-04-28\", \"ValorBase100\": 100.97215050242805}, {\"index\": 11, \"date\": \"2019-04-29\", \"ValorBase100\": 100.26457986942539}, {\"index\": 12, \"date\": \"2019-05-01\", \"ValorBase100\": 100.29706794648791}, {\"index\": 13, \"date\": \"2019-05-02\", \"ValorBase100\": 99.38226272831919}, {\"index\": 14, \"date\": \"2019-05-05\", \"ValorBase100\": 100.3435374184617}, {\"index\": 15, \"date\": \"2019-05-06\", \"ValorBase100\": 99.66401449723571}, {\"index\": 16, \"date\": \"2019-05-07\", \"ValorBase100\": 99.04322525200494}, {\"index\": 17, \"date\": \"2019-05-08\", \"ValorBase100\": 99.97135701101875}, {\"index\": 18, \"date\": \"2019-05-09\", \"ValorBase100\": 99.66086657697146}, {\"index\": 19, \"date\": \"2019-05-12\", \"ValorBase100\": 100.38548033279125}, {\"index\": 20, \"date\": \"2019-05-13\", \"ValorBase100\": 98.96043137647295}, {\"index\": 21, \"date\": \"2019-05-14\", \"ValorBase100\": 100.6828399815515}, {\"index\": 22, \"date\": \"2019-05-15\", \"ValorBase100\": 100.63475879962147}, {\"index\": 23, \"date\": \"2019-05-16\", \"ValorBase100\": 100.70966795061832}, {\"index\": 24, \"date\": \"2019-05-19\", \"ValorBase100\": 99.44951923854853}, {\"index\": 25, \"date\": \"2019-05-21\", \"ValorBase100\": 100.22788007737324}, {\"index\": 26, \"date\": \"2019-05-22\", \"ValorBase100\": 99.50508910369923}, {\"index\": 27, \"date\": \"2019-05-23\", \"ValorBase100\": 99.16269026111975}, {\"index\": 28, \"date\": \"2019-05-26\", \"ValorBase100\": 100.38626185112687}, {\"index\": 29, \"date\": \"2019-05-27\", \"ValorBase100\": 100.9292500585181}, {\"index\": 30, \"date\": \"2019-05-28\", \"ValorBase100\": 99.8764894974834}, {\"index\": 31, \"date\": \"2019-05-29\", \"ValorBase100\": 99.68544324703745}, {\"index\": 32, \"date\": \"2019-05-30\", \"ValorBase100\": 100.0067307802828}, {\"index\": 33, \"date\": \"2019-06-02\", \"ValorBase100\": 98.85194077270577}, {\"index\": 34, \"date\": \"2019-06-03\", \"ValorBase100\": 99.47222134933853}, {\"index\": 35, \"date\": \"2019-06-04\", \"ValorBase100\": 100.70424266758533}, {\"index\": 36, \"date\": \"2019-06-05\", \"ValorBase100\": 100.32120925295125}, {\"index\": 37, \"date\": \"2019-06-06\", \"ValorBase100\": 100.72946835457024}, {\"index\": 38, \"date\": \"2019-06-09\", \"ValorBase100\": 101.40327655047732}, {\"index\": 39, \"date\": \"2019-06-10\", \"ValorBase100\": 99.93454908693477}, {\"index\": 40, \"date\": \"2019-06-11\", \"ValorBase100\": 100.11611514059643}, {\"index\": 41, \"date\": \"2019-06-12\", \"ValorBase100\": 100.09842250650402}, {\"index\": 42, \"date\": \"2019-06-13\", \"ValorBase100\": 100.20890397070892}, {\"index\": 43, \"date\": \"2019-06-16\", \"ValorBase100\": 99.88288042471136}, {\"index\": 44, \"date\": \"2019-06-17\", \"ValorBase100\": 100.05591297101523}, {\"index\": 45, \"date\": \"2019-06-18\", \"ValorBase100\": 100.46990503260598}, {\"index\": 46, \"date\": \"2019-06-19\", \"ValorBase100\": 99.28302136900422}, {\"index\": 47, \"date\": \"2019-06-20\", \"ValorBase100\": 100.24909785918841}, {\"index\": 48, \"date\": \"2019-06-23\", \"ValorBase100\": 99.69268769787277}, {\"index\": 49, \"date\": \"2019-06-24\", \"ValorBase100\": 99.15153974428367}, {\"index\": 50, \"date\": \"2019-06-25\", \"ValorBase100\": 99.80731860935079}, {\"index\": 51, \"date\": \"2019-06-26\", \"ValorBase100\": 100.11069926323731}, {\"index\": 52, \"date\": \"2019-06-27\", \"ValorBase100\": 100.22199843818176}, {\"index\": 53, \"date\": \"2019-06-30\", \"ValorBase100\": 100.36717690126109}, {\"index\": 54, \"date\": \"2019-07-01\", \"ValorBase100\": 101.1463818471875}, {\"index\": 55, \"date\": \"2019-07-02\", \"ValorBase100\": 100.21958213581318}, {\"index\": 56, \"date\": \"2019-07-03\", \"ValorBase100\": 99.90254262566725}, {\"index\": 57, \"date\": \"2019-07-04\", \"ValorBase100\": 100.53936749123504}, {\"index\": 58, \"date\": \"2019-07-07\", \"ValorBase100\": 100.02157543418046}, {\"index\": 59, \"date\": \"2019-07-08\", \"ValorBase100\": 100.07739334468522}, {\"index\": 60, \"date\": \"2019-07-09\", \"ValorBase100\": 99.70332717408633}, {\"index\": 61, \"date\": \"2019-07-10\", \"ValorBase100\": 100.00965513675702}, {\"index\": 62, \"date\": \"2019-07-11\", \"ValorBase100\": 99.7999171129091}, {\"index\": 63, \"date\": \"2019-07-14\", \"ValorBase100\": 99.94373078099453}, {\"index\": 64, \"date\": \"2019-07-16\", \"ValorBase100\": 99.98220800658902}, {\"index\": 65, \"date\": \"2019-07-17\", \"ValorBase100\": 99.88934361477895}, {\"index\": 66, \"date\": \"2019-07-18\", \"ValorBase100\": 100.40991405259628}, {\"index\": 67, \"date\": \"2019-07-21\", \"ValorBase100\": 100.1460628910186}, {\"index\": 68, \"date\": \"2019-07-22\", \"ValorBase100\": 100.76573816552519}, {\"index\": 69, \"date\": \"2019-07-23\", \"ValorBase100\": 100.36325403491627}, {\"index\": 70, \"date\": \"2019-07-24\", \"ValorBase100\": 100.42849475976907}, {\"index\": 71, \"date\": \"2019-07-25\", \"ValorBase100\": 100.20251912976454}, {\"index\": 72, \"date\": \"2019-07-28\", \"ValorBase100\": 100.22897311051217}, {\"index\": 73, \"date\": \"2019-07-29\", \"ValorBase100\": 100.11638001348824}, {\"index\": 74, \"date\": \"2019-07-30\", \"ValorBase100\": 99.50068456323211}, {\"index\": 75, \"date\": \"2019-07-31\", \"ValorBase100\": 99.9211806565391}, {\"index\": 76, \"date\": \"2019-08-01\", \"ValorBase100\": 99.86386225251866}, {\"index\": 77, \"date\": \"2019-08-04\", \"ValorBase100\": 99.98959678177908}, {\"index\": 78, \"date\": \"2019-08-05\", \"ValorBase100\": 97.93598919024424}, {\"index\": 79, \"date\": \"2019-08-06\", \"ValorBase100\": 100.67295289664085}, {\"index\": 80, \"date\": \"2019-08-07\", \"ValorBase100\": 99.62943762260367}, {\"index\": 81, \"date\": \"2019-08-08\", \"ValorBase100\": 100.8905250546511}, {\"index\": 82, \"date\": \"2019-08-09\", \"ValorBase100\": 99.99482843961708}, {\"index\": 83, \"date\": \"2019-08-10\", \"ValorBase100\": 99.9948331787626}, {\"index\": 84, \"date\": \"2019-08-11\", \"ValorBase100\": 99.90619632011193}, {\"index\": 85, \"date\": \"2019-08-12\", \"ValorBase100\": 98.5801872913715}, {\"index\": 86, \"date\": \"2019-08-13\", \"ValorBase100\": 99.88999275159043}, {\"index\": 87, \"date\": \"2019-08-15\", \"ValorBase100\": 99.04632237873267}, {\"index\": 88, \"date\": \"2019-08-18\", \"ValorBase100\": 101.48012259694733}, {\"index\": 89, \"date\": \"2019-08-19\", \"ValorBase100\": 100.24323592183113}, {\"index\": 90, \"date\": \"2019-08-20\", \"ValorBase100\": 99.78886821970433}, {\"index\": 91, \"date\": \"2019-08-21\", \"ValorBase100\": 100.85691338371757}, {\"index\": 92, \"date\": \"2019-08-22\", \"ValorBase100\": 99.76414146212417}, {\"index\": 93, \"date\": \"2019-08-25\", \"ValorBase100\": 99.63530690382434}, {\"index\": 94, \"date\": \"2019-08-26\", \"ValorBase100\": 100.4226584514776}, {\"index\": 95, \"date\": \"2019-08-27\", \"ValorBase100\": 100.3745632073527}, {\"index\": 96, \"date\": \"2019-08-28\", \"ValorBase100\": 100.13983311191588}, {\"index\": 97, \"date\": \"2019-08-29\", \"ValorBase100\": 100.64248117995285}, {\"index\": 98, \"date\": \"2019-09-01\", \"ValorBase100\": 100.67536749340475}, {\"index\": 99, \"date\": \"2019-09-02\", \"ValorBase100\": 99.91469705680902}, {\"index\": 100, \"date\": \"2019-09-03\", \"ValorBase100\": 99.8733568845092}, {\"index\": 101, \"date\": \"2019-09-04\", \"ValorBase100\": 100.32402202686848}, {\"index\": 102, \"date\": \"2019-09-05\", \"ValorBase100\": 99.71709623141646}, {\"index\": 103, \"date\": \"2019-09-08\", \"ValorBase100\": 100.66399924277707}, {\"index\": 104, \"date\": \"2019-09-09\", \"ValorBase100\": 100.04335431846103}, {\"index\": 105, \"date\": \"2019-09-10\", \"ValorBase100\": 100.20885516023294}, {\"index\": 106, \"date\": \"2019-09-11\", \"ValorBase100\": 100.19402766243}, {\"index\": 107, \"date\": \"2019-09-12\", \"ValorBase100\": 99.64180140746973}, {\"index\": 108, \"date\": \"2019-09-15\", \"ValorBase100\": 100.17493535637925}, {\"index\": 109, \"date\": \"2019-09-16\", \"ValorBase100\": 100.63755090921207}, {\"index\": 110, \"date\": \"2019-09-22\", \"ValorBase100\": 100.88381628372602}, {\"index\": 111, \"date\": \"2019-09-23\", \"ValorBase100\": 99.73825468892584}, {\"index\": 112, \"date\": \"2019-09-24\", \"ValorBase100\": 100.16145133748975}, {\"index\": 113, \"date\": \"2019-09-25\", \"ValorBase100\": 100.09934948191166}, {\"index\": 114, \"date\": \"2019-09-26\", \"ValorBase100\": 99.8010590621142}, {\"index\": 115, \"date\": \"2019-09-29\", \"ValorBase100\": 100.12502539412087}, {\"index\": 116, \"date\": \"2019-09-30\", \"ValorBase100\": 100.12067219216674}, {\"index\": 117, \"date\": \"2019-10-01\", \"ValorBase100\": 98.38985234713364}, {\"index\": 118, \"date\": \"2019-10-02\", \"ValorBase100\": 98.01368960677055}, {\"index\": 119, \"date\": \"2019-10-03\", \"ValorBase100\": 100.20839953002682}, {\"index\": 120, \"date\": \"2019-10-06\", \"ValorBase100\": 100.74117229680097}, {\"index\": 121, \"date\": \"2019-10-07\", \"ValorBase100\": 100.18397443346028}, {\"index\": 122, \"date\": \"2019-10-08\", \"ValorBase100\": 99.86623928261047}, {\"index\": 123, \"date\": \"2019-10-09\", \"ValorBase100\": 100.14472182836151}, {\"index\": 124, \"date\": \"2019-10-10\", \"ValorBase100\": 99.9111242771522}, {\"index\": 125, \"date\": \"2019-10-13\", \"ValorBase100\": 100.52075003567644}, {\"index\": 126, \"date\": \"2019-10-14\", \"ValorBase100\": 100.77714735707607}, {\"index\": 127, \"date\": \"2019-10-15\", \"ValorBase100\": 101.01657317320047}, {\"index\": 128, \"date\": \"2019-10-16\", \"ValorBase100\": 99.3826193368902}, {\"index\": 129, \"date\": \"2019-10-17\", \"ValorBase100\": 99.48786213848207}, {\"index\": 130, \"date\": \"2019-10-20\", \"ValorBase100\": 101.95006392176515}, {\"index\": 131, \"date\": \"2019-10-21\", \"ValorBase100\": 100.65559564929912}, {\"index\": 132, \"date\": \"2019-10-22\", \"ValorBase100\": 99.9497278726123}, {\"index\": 133, \"date\": \"2019-10-23\", \"ValorBase100\": 99.7358825369147}, {\"index\": 134, \"date\": \"2019-10-24\", \"ValorBase100\": 100.77439320666934}, {\"index\": 135, \"date\": \"2019-10-28\", \"ValorBase100\": 100.50578390264356}, {\"index\": 136, \"date\": \"2019-10-29\", \"ValorBase100\": 101.37705720581745}, {\"index\": 137, \"date\": \"2019-10-30\", \"ValorBase100\": 99.9947228843587}, {\"index\": 138, \"date\": \"2019-10-31\", \"ValorBase100\": 99.99471794797032}, {\"index\": 139, \"date\": \"2019-11-01\", \"ValorBase100\": 99.99472232709508}, {\"index\": 140, \"date\": \"2019-11-02\", \"ValorBase100\": 99.99472204854206}, {\"index\": 141, \"date\": \"2019-11-03\", \"ValorBase100\": 101.11939006953894}, {\"index\": 142, \"date\": \"2019-11-04\", \"ValorBase100\": 101.4207577214803}, {\"index\": 143, \"date\": \"2019-11-05\", \"ValorBase100\": 99.73104176990496}, {\"index\": 144, \"date\": \"2019-11-06\", \"ValorBase100\": 99.76460476638796}, {\"index\": 145, \"date\": \"2019-11-07\", \"ValorBase100\": 100.75463027070477}, {\"index\": 146, \"date\": \"2019-11-08\", \"ValorBase100\": 99.99495663476222}, {\"index\": 147, \"date\": \"2019-11-09\", \"ValorBase100\": 99.99495184884005}, {\"index\": 148, \"date\": \"2019-11-10\", \"ValorBase100\": 101.22112965471305}, {\"index\": 149, \"date\": \"2019-11-11\", \"ValorBase100\": 103.58397247830055}, {\"index\": 150, \"date\": \"2019-11-12\", \"ValorBase100\": 101.2870099592243}, {\"index\": 151, \"date\": \"2019-11-13\", \"ValorBase100\": 100.94316373992831}, {\"index\": 152, \"date\": \"2019-11-14\", \"ValorBase100\": 97.89793156486273}, {\"index\": 153, \"date\": \"2019-11-15\", \"ValorBase100\": 99.99488726991528}, {\"index\": 154, \"date\": \"2019-11-16\", \"ValorBase100\": 99.9948913269068}, {\"index\": 155, \"date\": \"2019-11-17\", \"ValorBase100\": 99.3877614037088}, {\"index\": 156, \"date\": \"2019-11-18\", \"ValorBase100\": 101.20922502497203}, {\"index\": 157, \"date\": \"2019-11-19\", \"ValorBase100\": 101.71802499360727}, {\"index\": 158, \"date\": \"2019-11-20\", \"ValorBase100\": 99.38751991742092}, {\"index\": 159, \"date\": \"2019-11-21\", \"ValorBase100\": 100.0547456205733}, {\"index\": 160, \"date\": \"2019-11-22\", \"ValorBase100\": 99.99508488547104}, {\"index\": 161, \"date\": \"2019-11-23\", \"ValorBase100\": 99.99508039918123}, {\"index\": 162, \"date\": \"2019-11-24\", \"ValorBase100\": 99.87803544010286}, {\"index\": 163, \"date\": \"2019-11-25\", \"ValorBase100\": 100.74319568534584}, {\"index\": 164, \"date\": \"2019-11-26\", \"ValorBase100\": 101.80604398527376}, {\"index\": 165, \"date\": \"2019-11-27\", \"ValorBase100\": 102.76883732891626}, {\"index\": 166, \"date\": \"2019-11-28\", \"ValorBase100\": 97.81980866103167}, {\"index\": 167, \"date\": \"2019-11-29\", \"ValorBase100\": 99.99488445336324}, {\"index\": 168, \"date\": \"2019-11-30\", \"ValorBase100\": 99.99488419166168}, {\"index\": 169, \"date\": \"2019-12-01\", \"ValorBase100\": 98.50224884465862}, {\"index\": 170, \"date\": \"2019-12-02\", \"ValorBase100\": 98.99925051034604}, {\"index\": 171, \"date\": \"2019-12-03\", \"ValorBase100\": 99.30466439820249}, {\"index\": 172, \"date\": \"2019-12-04\", \"ValorBase100\": 98.91967215494562}, {\"index\": 173, \"date\": \"2019-12-05\", \"ValorBase100\": 99.71019825505255}, {\"index\": 174, \"date\": \"2019-12-06\", \"ValorBase100\": 99.99484222183963}, {\"index\": 175, \"date\": \"2019-12-07\", \"ValorBase100\": 99.99484627215412}, {\"index\": 176, \"date\": \"2019-12-08\", \"ValorBase100\": 99.37907328434822}, {\"index\": 177, \"date\": \"2019-12-09\", \"ValorBase100\": 100.68533798556247}, {\"index\": 178, \"date\": \"2019-12-10\", \"ValorBase100\": 99.41211637157159}, {\"index\": 179, \"date\": \"2019-12-11\", \"ValorBase100\": 99.95785917857553}, {\"index\": 180, \"date\": \"2019-12-12\", \"ValorBase100\": 100.3684914940242}, {\"index\": 181, \"date\": \"2019-12-13\", \"ValorBase100\": 99.9948225149921}, {\"index\": 182, \"date\": \"2019-12-14\", \"ValorBase100\": 99.99482657252298}, {\"index\": 183, \"date\": \"2019-12-15\", \"ValorBase100\": 99.96183750963579}, {\"index\": 184, \"date\": \"2019-12-16\", \"ValorBase100\": 99.70557965819631}, {\"index\": 185, \"date\": \"2019-12-17\", \"ValorBase100\": 99.34811432753953}, {\"index\": 186, \"date\": \"2019-12-18\", \"ValorBase100\": 100.08239883043551}, {\"index\": 187, \"date\": \"2019-12-19\", \"ValorBase100\": 99.89268728728923}, {\"index\": 188, \"date\": \"2019-12-20\", \"ValorBase100\": 99.994821746828}, {\"index\": 189, \"date\": \"2019-12-21\", \"ValorBase100\": 99.99482147867107}, {\"index\": 190, \"date\": \"2019-12-22\", \"ValorBase100\": 100.8984347600352}, {\"index\": 191, \"date\": \"2019-12-23\", \"ValorBase100\": 99.59091491266679}, {\"index\": 192, \"date\": \"2019-12-24\", \"ValorBase100\": 99.99478970184133}, {\"index\": 193, \"date\": \"2019-12-25\", \"ValorBase100\": 99.63580379865317}, {\"index\": 194, \"date\": \"2019-12-26\", \"ValorBase100\": 99.98485244866278}, {\"index\": 195, \"date\": \"2019-12-27\", \"ValorBase100\": 99.99480015366397}, {\"index\": 196, \"date\": \"2019-12-28\", \"ValorBase100\": 99.99479551708895}, {\"index\": 197, \"date\": \"2019-12-29\", \"ValorBase100\": 100.52364975500107}, {\"index\": 198, \"date\": \"2019-12-30\", \"ValorBase100\": 99.99473114208206}, {\"index\": 199, \"date\": \"2019-12-31\", \"ValorBase100\": 99.99473086445882}, {\"index\": 200, \"date\": \"2020-01-01\", \"ValorBase100\": 101.00255690347213}, {\"index\": 201, \"date\": \"2020-01-02\", \"ValorBase100\": 100.71648149586592}, {\"index\": 202, \"date\": \"2020-01-03\", \"ValorBase100\": 99.99479438259648}, {\"index\": 203, \"date\": \"2020-01-04\", \"ValorBase100\": 99.99479411159784}, {\"index\": 204, \"date\": \"2020-01-05\", \"ValorBase100\": 101.43074998634395}, {\"index\": 205, \"date\": \"2020-01-06\", \"ValorBase100\": 100.28325136064528}, {\"index\": 206, \"date\": \"2020-01-07\", \"ValorBase100\": 99.23598622286207}, {\"index\": 207, \"date\": \"2020-01-08\", \"ValorBase100\": 100.20267922618109}, {\"index\": 208, \"date\": \"2020-01-09\", \"ValorBase100\": 101.17372587947526}, {\"index\": 209, \"date\": \"2020-01-10\", \"ValorBase100\": 99.99478731015104}, {\"index\": 210, \"date\": \"2020-01-11\", \"ValorBase100\": 99.99478286470729}, {\"index\": 211, \"date\": \"2020-01-12\", \"ValorBase100\": 101.06909270828068}, {\"index\": 212, \"date\": \"2020-01-13\", \"ValorBase100\": 99.47515930090344}, {\"index\": 213, \"date\": \"2020-01-14\", \"ValorBase100\": 100.04008750168344}, {\"index\": 214, \"date\": \"2020-01-15\", \"ValorBase100\": 100.45295747630283}, {\"index\": 215, \"date\": \"2020-01-16\", \"ValorBase100\": 100.16342152909887}, {\"index\": 216, \"date\": \"2020-01-17\", \"ValorBase100\": 99.99482794268715}, {\"index\": 217, \"date\": \"2020-01-18\", \"ValorBase100\": 99.99483179983253}, {\"index\": 218, \"date\": \"2020-01-19\", \"ValorBase100\": 99.97708219933669}, {\"index\": 219, \"date\": \"2020-01-20\", \"ValorBase100\": 99.78840733788581}, {\"index\": 220, \"date\": \"2020-01-21\", \"ValorBase100\": 100.16400591359009}, {\"index\": 221, \"date\": \"2020-01-22\", \"ValorBase100\": 99.77134474174223}, {\"index\": 222, \"date\": \"2020-01-23\", \"ValorBase100\": 100.37740898073014}, {\"index\": 223, \"date\": \"2020-01-24\", \"ValorBase100\": 99.99479016782668}, {\"index\": 224, \"date\": \"2020-01-25\", \"ValorBase100\": 99.99478577447158}, {\"index\": 225, \"date\": \"2020-01-26\", \"ValorBase100\": 100.45164967530582}, {\"index\": 226, \"date\": \"2020-01-27\", \"ValorBase100\": 99.25401914640555}, {\"index\": 227, \"date\": \"2020-01-28\", \"ValorBase100\": 100.42270520665402}, {\"index\": 228, \"date\": \"2020-01-29\", \"ValorBase100\": 100.92215468130445}, {\"index\": 229, \"date\": \"2020-01-30\", \"ValorBase100\": 99.67584119865735}, {\"index\": 230, \"date\": \"2020-01-31\", \"ValorBase100\": 99.99481865963554}, {\"index\": 231, \"date\": \"2020-02-01\", \"ValorBase100\": 99.99482248405673}, {\"index\": 232, \"date\": \"2020-02-02\", \"ValorBase100\": 98.3860049041187}, {\"index\": 233, \"date\": \"2020-02-03\", \"ValorBase100\": 99.89990007480556}, {\"index\": 234, \"date\": \"2020-02-04\", \"ValorBase100\": 100.58279043115124}, {\"index\": 235, \"date\": \"2020-02-05\", \"ValorBase100\": 100.97764385301701}, {\"index\": 236, \"date\": \"2020-02-06\", \"ValorBase100\": 101.02266210734237}, {\"index\": 237, \"date\": \"2020-02-07\", \"ValorBase100\": 99.99490632736014}, {\"index\": 238, \"date\": \"2020-02-08\", \"ValorBase100\": 99.99491012680197}, {\"index\": 239, \"date\": \"2020-02-09\", \"ValorBase100\": 100.73544699114325}, {\"index\": 240, \"date\": \"2020-02-10\", \"ValorBase100\": 100.04418326954261}, {\"index\": 241, \"date\": \"2020-02-11\", \"ValorBase100\": 99.97090387803698}, {\"index\": 242, \"date\": \"2020-02-12\", \"ValorBase100\": 101.01129990551887}, {\"index\": 243, \"date\": \"2020-02-13\", \"ValorBase100\": 99.61901479907338}, {\"index\": 244, \"date\": \"2020-02-14\", \"ValorBase100\": 99.99471899783475}, {\"index\": 245, \"date\": \"2020-02-15\", \"ValorBase100\": 99.99471871893016}, {\"index\": 246, \"date\": \"2020-02-16\", \"ValorBase100\": 99.93063097383879}, {\"index\": 247, \"date\": \"2020-02-17\", \"ValorBase100\": 100.4419595198947}, {\"index\": 248, \"date\": \"2020-02-18\", \"ValorBase100\": 100.14212107678509}, {\"index\": 249, \"date\": \"2020-02-19\", \"ValorBase100\": 100.87791626896043}, {\"index\": 250, \"date\": \"2020-02-20\", \"ValorBase100\": 99.85642501890699}, {\"index\": 251, \"date\": \"2020-02-21\", \"ValorBase100\": 99.99723170254248}, {\"index\": 252, \"date\": \"2020-02-22\", \"ValorBase100\": 99.99723162590564}, {\"index\": 253, \"date\": \"2020-02-23\", \"ValorBase100\": 98.08268966853736}, {\"index\": 254, \"date\": \"2020-02-24\", \"ValorBase100\": 97.3875720712529}, {\"index\": 255, \"date\": \"2020-02-25\", \"ValorBase100\": 98.88925761498164}, {\"index\": 256, \"date\": \"2020-02-26\", \"ValorBase100\": 98.89998122589073}, {\"index\": 257, \"date\": \"2020-02-27\", \"ValorBase100\": 97.4035007832785}, {\"index\": 258, \"date\": \"2020-02-28\", \"ValorBase100\": 99.99732700542069}, {\"index\": 259, \"date\": \"2020-02-29\", \"ValorBase100\": 99.9973269339698}, {\"index\": 260, \"date\": \"2020-03-01\", \"ValorBase100\": 99.87491455196498}, {\"index\": 261, \"date\": \"2020-03-02\", \"ValorBase100\": 100.7063397234603}, {\"index\": 262, \"date\": \"2020-03-03\", \"ValorBase100\": 99.68467424888388}, {\"index\": 263, \"date\": \"2020-03-04\", \"ValorBase100\": 102.84317622878865}, {\"index\": 264, \"date\": \"2020-03-05\", \"ValorBase100\": 98.36433072411532}, {\"index\": 265, \"date\": \"2020-03-06\", \"ValorBase100\": 99.99723591657713}, {\"index\": 266, \"date\": \"2020-03-07\", \"ValorBase100\": 99.99723155465433}, {\"index\": 267, \"date\": \"2020-03-08\", \"ValorBase100\": 98.65094980446779}, {\"index\": 268, \"date\": \"2020-03-09\", \"ValorBase100\": 93.45219502909036}, {\"index\": 269, \"date\": \"2020-03-10\", \"ValorBase100\": 101.26631848142004}, {\"index\": 270, \"date\": \"2020-03-11\", \"ValorBase100\": 97.81053515273683}, {\"index\": 271, \"date\": \"2020-03-12\", \"ValorBase100\": 88.07020450383392}, {\"index\": 272, \"date\": \"2020-03-13\", \"ValorBase100\": 99.99720760849947}, {\"index\": 273, \"date\": \"2020-03-14\", \"ValorBase100\": 99.99721285966301}, {\"index\": 274, \"date\": \"2020-03-15\", \"ValorBase100\": 105.02974542520529}, {\"index\": 275, \"date\": \"2020-03-16\", \"ValorBase100\": 92.46224748164745}, {\"index\": 276, \"date\": \"2020-03-17\", \"ValorBase100\": 102.67366446972837}, {\"index\": 277, \"date\": \"2020-03-18\", \"ValorBase100\": 94.00831836381673}, {\"index\": 278, \"date\": \"2020-03-19\", \"ValorBase100\": 98.7500926733264}, {\"index\": 279, \"date\": \"2020-03-20\", \"ValorBase100\": 99.99721339766164}, {\"index\": 280, \"date\": \"2020-03-21\", \"ValorBase100\": 99.99720756240464}, {\"index\": 281, \"date\": \"2020-03-22\", \"ValorBase100\": 101.09399244684994}, {\"index\": 282, \"date\": \"2020-03-23\", \"ValorBase100\": 95.725571504858}, {\"index\": 283, \"date\": \"2020-03-24\", \"ValorBase100\": 108.14807419464736}, {\"index\": 284, \"date\": \"2020-03-25\", \"ValorBase100\": 102.31991445815044}, {\"index\": 285, \"date\": \"2020-03-26\", \"ValorBase100\": 104.27297417896833}, {\"index\": 286, \"date\": \"2020-03-27\", \"ValorBase100\": 99.99717427178587}, {\"index\": 287, \"date\": \"2020-03-28\", \"ValorBase100\": 99.99717419193621}, {\"index\": 288, \"date\": \"2020-03-29\", \"ValorBase100\": 98.9727845850908}, {\"index\": 289, \"date\": \"2020-03-30\", \"ValorBase100\": 101.82453065023506}, {\"index\": 290, \"date\": \"2020-03-31\", \"ValorBase100\": 100.7595820052656}, {\"index\": 291, \"date\": \"2020-04-01\", \"ValorBase100\": 96.14037748044682}, {\"index\": 292, \"date\": \"2020-04-02\", \"ValorBase100\": 100.68201519548619}, {\"index\": 293, \"date\": \"2020-04-03\", \"ValorBase100\": 99.99715120028117}, {\"index\": 294, \"date\": \"2020-04-04\", \"ValorBase100\": 99.99715636568004}, {\"index\": 295, \"date\": \"2020-04-05\", \"ValorBase100\": 97.73146031490526}, {\"index\": 296, \"date\": \"2020-04-06\", \"ValorBase100\": 103.75979750042947}, {\"index\": 297, \"date\": \"2020-04-07\", \"ValorBase100\": 102.94605962630018}]}}, {\"mode\": \"vega-lite\"});\n",
       "</script>"
      ],
      "text/plain": [
       "alt.Chart(...)"
      ]
     },
     "execution_count": 5,
     "metadata": {},
     "output_type": "execute_result"
    }
   ],
   "source": [
    "alt.Chart(\n",
    "    results_df.reset_index(level=0)\n",
    ").mark_line().encode(\n",
    "    alt.X(\"date\", type=\"temporal\", axis=alt.Axis(format=\"%y.%m.%d\")),\n",
    "    alt.Y(\"ValorBase100\", type=\"quantitative\"),\n",
    "    tooltip=[\"date\", \"ValorBase100\"],\n",
    ").interactive()\n"
   ]
  }
 ],
 "metadata": {
  "kernelspec": {
   "display_name": "Python 3",
   "language": "python",
   "name": "python3"
  },
  "language_info": {
   "codemirror_mode": {
    "name": "ipython",
    "version": 3
   },
   "file_extension": ".py",
   "mimetype": "text/x-python",
   "name": "python",
   "nbconvert_exporter": "python",
   "pygments_lexer": "ipython3",
   "version": "3.6.8"
  }
 },
 "nbformat": 4,
 "nbformat_minor": 4
}
