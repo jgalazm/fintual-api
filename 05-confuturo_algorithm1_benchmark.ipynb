{
 "cells": [
  {
   "cell_type": "code",
   "execution_count": 1,
   "metadata": {},
   "outputs": [],
   "source": [
    "import utils\n",
    "\n",
    "import pandas as pd\n",
    "import altair as alt\n",
    "results_df, corporativo_df, tecnologico_df = utils.read_confuturo_dataframes()"
   ]
  },
  {
   "cell_type": "code",
   "execution_count": 2,
   "metadata": {},
   "outputs": [
    {
     "data": {
      "text/html": [
       "<div>\n",
       "<style scoped>\n",
       "    .dataframe tbody tr th:only-of-type {\n",
       "        vertical-align: middle;\n",
       "    }\n",
       "\n",
       "    .dataframe tbody tr th {\n",
       "        vertical-align: top;\n",
       "    }\n",
       "\n",
       "    .dataframe thead th {\n",
       "        text-align: right;\n",
       "    }\n",
       "</style>\n",
       "<table border=\"1\" class=\"dataframe\">\n",
       "  <thead>\n",
       "    <tr style=\"text-align: right;\">\n",
       "      <th></th>\n",
       "      <th>timestamp</th>\n",
       "      <th>ValorBase100</th>\n",
       "    </tr>\n",
       "  </thead>\n",
       "  <tbody>\n",
       "    <tr>\n",
       "      <th>0</th>\n",
       "      <td>2019-04-10</td>\n",
       "      <td>100.00</td>\n",
       "    </tr>\n",
       "    <tr>\n",
       "      <th>1</th>\n",
       "      <td>2019-04-11</td>\n",
       "      <td>99.88</td>\n",
       "    </tr>\n",
       "    <tr>\n",
       "      <th>2</th>\n",
       "      <td>2019-04-12</td>\n",
       "      <td>100.65</td>\n",
       "    </tr>\n",
       "    <tr>\n",
       "      <th>3</th>\n",
       "      <td>2019-04-13</td>\n",
       "      <td>100.63</td>\n",
       "    </tr>\n",
       "    <tr>\n",
       "      <th>4</th>\n",
       "      <td>2019-04-14</td>\n",
       "      <td>100.62</td>\n",
       "    </tr>\n",
       "    <tr>\n",
       "      <th>...</th>\n",
       "      <td>...</td>\n",
       "      <td>...</td>\n",
       "    </tr>\n",
       "    <tr>\n",
       "      <th>360</th>\n",
       "      <td>2020-04-04</td>\n",
       "      <td>124.07</td>\n",
       "    </tr>\n",
       "    <tr>\n",
       "      <th>361</th>\n",
       "      <td>2020-04-05</td>\n",
       "      <td>124.06</td>\n",
       "    </tr>\n",
       "    <tr>\n",
       "      <th>362</th>\n",
       "      <td>2020-04-06</td>\n",
       "      <td>132.48</td>\n",
       "    </tr>\n",
       "    <tr>\n",
       "      <th>363</th>\n",
       "      <td>2020-04-07</td>\n",
       "      <td>129.91</td>\n",
       "    </tr>\n",
       "    <tr>\n",
       "      <th>364</th>\n",
       "      <td>2020-04-08</td>\n",
       "      <td>135.09</td>\n",
       "    </tr>\n",
       "  </tbody>\n",
       "</table>\n",
       "<p>365 rows × 2 columns</p>\n",
       "</div>"
      ],
      "text/plain": [
       "     timestamp  ValorBase100\n",
       "0   2019-04-10        100.00\n",
       "1   2019-04-11         99.88\n",
       "2   2019-04-12        100.65\n",
       "3   2019-04-13        100.63\n",
       "4   2019-04-14        100.62\n",
       "..         ...           ...\n",
       "360 2020-04-04        124.07\n",
       "361 2020-04-05        124.06\n",
       "362 2020-04-06        132.48\n",
       "363 2020-04-07        129.91\n",
       "364 2020-04-08        135.09\n",
       "\n",
       "[365 rows x 2 columns]"
      ]
     },
     "execution_count": 2,
     "metadata": {},
     "output_type": "execute_result"
    }
   ],
   "source": [
    "tecnologico_df"
   ]
  },
  {
   "cell_type": "code",
   "execution_count": 5,
   "metadata": {},
   "outputs": [
    {
     "data": {
      "text/html": [
       "\n",
       "<div id=\"altair-viz-eed044b3fb594460ada438b6127519f3\"></div>\n",
       "<script type=\"text/javascript\">\n",
       "  (function(spec, embedOpt){\n",
       "    let outputDiv = document.currentScript.previousElementSibling;\n",
       "    if (outputDiv.id !== \"altair-viz-eed044b3fb594460ada438b6127519f3\") {\n",
       "      outputDiv = document.getElementById(\"altair-viz-eed044b3fb594460ada438b6127519f3\");\n",
       "    }\n",
       "    const paths = {\n",
       "      \"vega\": \"https://cdn.jsdelivr.net/npm//vega@5?noext\",\n",
       "      \"vega-lib\": \"https://cdn.jsdelivr.net/npm//vega-lib?noext\",\n",
       "      \"vega-lite\": \"https://cdn.jsdelivr.net/npm//vega-lite@4.8.1?noext\",\n",
       "      \"vega-embed\": \"https://cdn.jsdelivr.net/npm//vega-embed@6?noext\",\n",
       "    };\n",
       "\n",
       "    function loadScript(lib) {\n",
       "      return new Promise(function(resolve, reject) {\n",
       "        var s = document.createElement('script');\n",
       "        s.src = paths[lib];\n",
       "        s.async = true;\n",
       "        s.onload = () => resolve(paths[lib]);\n",
       "        s.onerror = () => reject(`Error loading script: ${paths[lib]}`);\n",
       "        document.getElementsByTagName(\"head\")[0].appendChild(s);\n",
       "      });\n",
       "    }\n",
       "\n",
       "    function showError(err) {\n",
       "      outputDiv.innerHTML = `<div class=\"error\" style=\"color:red;\">${err}</div>`;\n",
       "      throw err;\n",
       "    }\n",
       "\n",
       "    function displayChart(vegaEmbed) {\n",
       "      vegaEmbed(outputDiv, spec, embedOpt)\n",
       "        .catch(err => showError(`Javascript Error: ${err.message}<br>This usually means there's a typo in your chart specification. See the javascript console for the full traceback.`));\n",
       "    }\n",
       "\n",
       "    if(typeof define === \"function\" && define.amd) {\n",
       "      requirejs.config({paths});\n",
       "      require([\"vega-embed\"], displayChart, err => showError(`Error loading script: ${err.message}`));\n",
       "    } else if (typeof vegaEmbed === \"function\") {\n",
       "      displayChart(vegaEmbed);\n",
       "    } else {\n",
       "      loadScript(\"vega\")\n",
       "        .then(() => loadScript(\"vega-lite\"))\n",
       "        .then(() => loadScript(\"vega-embed\"))\n",
       "        .catch(showError)\n",
       "        .then(() => displayChart(vegaEmbed));\n",
       "    }\n",
       "  })({\"config\": {\"view\": {\"continuousWidth\": 400, \"continuousHeight\": 300}}, \"data\": {\"name\": \"data-a61e3491b0b5061f6dfe2fe2cadbcc47\"}, \"mark\": \"line\", \"encoding\": {\"x\": {\"type\": \"temporal\", \"field\": \"timestamp\"}, \"y\": {\"type\": \"quantitative\", \"field\": \"ValorBase100\"}}, \"$schema\": \"https://vega.github.io/schema/vega-lite/v4.8.1.json\", \"datasets\": {\"data-a61e3491b0b5061f6dfe2fe2cadbcc47\": [{\"timestamp\": \"2019-04-10T00:00:00\", \"ValorBase100\": 100.0}, {\"timestamp\": \"2019-04-11T00:00:00\", \"ValorBase100\": 99.88}, {\"timestamp\": \"2019-04-12T00:00:00\", \"ValorBase100\": 100.65}, {\"timestamp\": \"2019-04-13T00:00:00\", \"ValorBase100\": 100.63}, {\"timestamp\": \"2019-04-14T00:00:00\", \"ValorBase100\": 100.62}, {\"timestamp\": \"2019-04-15T00:00:00\", \"ValorBase100\": 100.12}, {\"timestamp\": \"2019-04-16T00:00:00\", \"ValorBase100\": 100.92}, {\"timestamp\": \"2019-04-17T00:00:00\", \"ValorBase100\": 101.48}, {\"timestamp\": \"2019-04-18T00:00:00\", \"ValorBase100\": 101.18}, {\"timestamp\": \"2019-04-19T00:00:00\", \"ValorBase100\": 101.43}, {\"timestamp\": \"2019-04-20T00:00:00\", \"ValorBase100\": 101.42}, {\"timestamp\": \"2019-04-21T00:00:00\", \"ValorBase100\": 101.4}, {\"timestamp\": \"2019-04-22T00:00:00\", \"ValorBase100\": 101.93}, {\"timestamp\": \"2019-04-23T00:00:00\", \"ValorBase100\": 103.47}, {\"timestamp\": \"2019-04-24T00:00:00\", \"ValorBase100\": 104.03}, {\"timestamp\": \"2019-04-25T00:00:00\", \"ValorBase100\": 105.16}, {\"timestamp\": \"2019-04-26T00:00:00\", \"ValorBase100\": 105.46}, {\"timestamp\": \"2019-04-27T00:00:00\", \"ValorBase100\": 105.44}, {\"timestamp\": \"2019-04-28T00:00:00\", \"ValorBase100\": 105.42}, {\"timestamp\": \"2019-04-29T00:00:00\", \"ValorBase100\": 105.31}, {\"timestamp\": \"2019-04-30T00:00:00\", \"ValorBase100\": 104.8}, {\"timestamp\": \"2019-05-01T00:00:00\", \"ValorBase100\": 104.57}, {\"timestamp\": \"2019-05-02T00:00:00\", \"ValorBase100\": 104.1}, {\"timestamp\": \"2019-05-03T00:00:00\", \"ValorBase100\": 106.02}, {\"timestamp\": \"2019-05-04T00:00:00\", \"ValorBase100\": 106.01}, {\"timestamp\": \"2019-05-05T00:00:00\", \"ValorBase100\": 105.99}, {\"timestamp\": \"2019-05-06T00:00:00\", \"ValorBase100\": 104.56}, {\"timestamp\": \"2019-05-07T00:00:00\", \"ValorBase100\": 102.66}, {\"timestamp\": \"2019-05-08T00:00:00\", \"ValorBase100\": 102.72}, {\"timestamp\": \"2019-05-09T00:00:00\", \"ValorBase100\": 102.17}, {\"timestamp\": \"2019-05-10T00:00:00\", \"ValorBase100\": 102.62}, {\"timestamp\": \"2019-05-11T00:00:00\", \"ValorBase100\": 102.61}, {\"timestamp\": \"2019-05-12T00:00:00\", \"ValorBase100\": 102.6}, {\"timestamp\": \"2019-05-13T00:00:00\", \"ValorBase100\": 98.43}, {\"timestamp\": \"2019-05-14T00:00:00\", \"ValorBase100\": 100.69}, {\"timestamp\": \"2019-05-15T00:00:00\", \"ValorBase100\": 102.12}, {\"timestamp\": \"2019-05-16T00:00:00\", \"ValorBase100\": 103.08}, {\"timestamp\": \"2019-05-17T00:00:00\", \"ValorBase100\": 102.1}, {\"timestamp\": \"2019-05-18T00:00:00\", \"ValorBase100\": 102.09}, {\"timestamp\": \"2019-05-19T00:00:00\", \"ValorBase100\": 102.08}, {\"timestamp\": \"2019-05-20T00:00:00\", \"ValorBase100\": 100.52}, {\"timestamp\": \"2019-05-21T00:00:00\", \"ValorBase100\": 101.9}, {\"timestamp\": \"2019-05-22T00:00:00\", \"ValorBase100\": 101.35}, {\"timestamp\": \"2019-05-23T00:00:00\", \"ValorBase100\": 99.54}, {\"timestamp\": \"2019-05-24T00:00:00\", \"ValorBase100\": 99.63}, {\"timestamp\": \"2019-05-25T00:00:00\", \"ValorBase100\": 99.62}, {\"timestamp\": \"2019-05-26T00:00:00\", \"ValorBase100\": 99.61}, {\"timestamp\": \"2019-05-27T00:00:00\", \"ValorBase100\": 99.15}, {\"timestamp\": \"2019-05-28T00:00:00\", \"ValorBase100\": 99.04}, {\"timestamp\": \"2019-05-29T00:00:00\", \"ValorBase100\": 99.32}, {\"timestamp\": \"2019-05-30T00:00:00\", \"ValorBase100\": 100.48}, {\"timestamp\": \"2019-05-31T00:00:00\", \"ValorBase100\": 98.64}, {\"timestamp\": \"2019-06-01T00:00:00\", \"ValorBase100\": 98.63}, {\"timestamp\": \"2019-06-02T00:00:00\", \"ValorBase100\": 98.62}, {\"timestamp\": \"2019-06-03T00:00:00\", \"ValorBase100\": 96.21}, {\"timestamp\": \"2019-06-04T00:00:00\", \"ValorBase100\": 98.54}, {\"timestamp\": \"2019-06-05T00:00:00\", \"ValorBase100\": 98.3}, {\"timestamp\": \"2019-06-06T00:00:00\", \"ValorBase100\": 98.73}, {\"timestamp\": \"2019-06-07T00:00:00\", \"ValorBase100\": 100.49}, {\"timestamp\": \"2019-06-08T00:00:00\", \"ValorBase100\": 100.48}, {\"timestamp\": \"2019-06-09T00:00:00\", \"ValorBase100\": 100.47}, {\"timestamp\": \"2019-06-10T00:00:00\", \"ValorBase100\": 101.64}, {\"timestamp\": \"2019-06-11T00:00:00\", \"ValorBase100\": 102.45}, {\"timestamp\": \"2019-06-12T00:00:00\", \"ValorBase100\": 101.24}, {\"timestamp\": \"2019-06-13T00:00:00\", \"ValorBase100\": 101.99}, {\"timestamp\": \"2019-06-14T00:00:00\", \"ValorBase100\": 101.38}, {\"timestamp\": \"2019-06-15T00:00:00\", \"ValorBase100\": 101.36}, {\"timestamp\": \"2019-06-16T00:00:00\", \"ValorBase100\": 101.34}, {\"timestamp\": \"2019-06-17T00:00:00\", \"ValorBase100\": 101.97}, {\"timestamp\": \"2019-06-18T00:00:00\", \"ValorBase100\": 103.89}, {\"timestamp\": \"2019-06-19T00:00:00\", \"ValorBase100\": 103.8}, {\"timestamp\": \"2019-06-20T00:00:00\", \"ValorBase100\": 104.59}, {\"timestamp\": \"2019-06-21T00:00:00\", \"ValorBase100\": 102.91}, {\"timestamp\": \"2019-06-22T00:00:00\", \"ValorBase100\": 102.88}, {\"timestamp\": \"2019-06-23T00:00:00\", \"ValorBase100\": 102.86}, {\"timestamp\": \"2019-06-24T00:00:00\", \"ValorBase100\": 102.7}, {\"timestamp\": \"2019-06-25T00:00:00\", \"ValorBase100\": 100.44}, {\"timestamp\": \"2019-06-26T00:00:00\", \"ValorBase100\": 100.74}, {\"timestamp\": \"2019-06-27T00:00:00\", \"ValorBase100\": 101.45}, {\"timestamp\": \"2019-06-28T00:00:00\", \"ValorBase100\": 101.5}, {\"timestamp\": \"2019-06-29T00:00:00\", \"ValorBase100\": 101.48}, {\"timestamp\": \"2019-06-30T00:00:00\", \"ValorBase100\": 101.46}, {\"timestamp\": \"2019-07-01T00:00:00\", \"ValorBase100\": 102.9}, {\"timestamp\": \"2019-07-02T00:00:00\", \"ValorBase100\": 103.01}, {\"timestamp\": \"2019-07-03T00:00:00\", \"ValorBase100\": 104.29}, {\"timestamp\": \"2019-07-04T00:00:00\", \"ValorBase100\": 104.15}, {\"timestamp\": \"2019-07-05T00:00:00\", \"ValorBase100\": 103.68}, {\"timestamp\": \"2019-07-06T00:00:00\", \"ValorBase100\": 103.66}, {\"timestamp\": \"2019-07-07T00:00:00\", \"ValorBase100\": 103.64}, {\"timestamp\": \"2019-07-08T00:00:00\", \"ValorBase100\": 103.55}, {\"timestamp\": \"2019-07-09T00:00:00\", \"ValorBase100\": 104.44}, {\"timestamp\": \"2019-07-10T00:00:00\", \"ValorBase100\": 105.86}, {\"timestamp\": \"2019-07-11T00:00:00\", \"ValorBase100\": 105.58}, {\"timestamp\": \"2019-07-12T00:00:00\", \"ValorBase100\": 106.19}, {\"timestamp\": \"2019-07-13T00:00:00\", \"ValorBase100\": 106.19}, {\"timestamp\": \"2019-07-14T00:00:00\", \"ValorBase100\": 106.19}, {\"timestamp\": \"2019-07-15T00:00:00\", \"ValorBase100\": 106.09}, {\"timestamp\": \"2019-07-16T00:00:00\", \"ValorBase100\": 105.07}, {\"timestamp\": \"2019-07-17T00:00:00\", \"ValorBase100\": 104.7}, {\"timestamp\": \"2019-07-18T00:00:00\", \"ValorBase100\": 105.69}, {\"timestamp\": \"2019-07-19T00:00:00\", \"ValorBase100\": 105.22}, {\"timestamp\": \"2019-07-20T00:00:00\", \"ValorBase100\": 105.22}, {\"timestamp\": \"2019-07-21T00:00:00\", \"ValorBase100\": 105.22}, {\"timestamp\": \"2019-07-22T00:00:00\", \"ValorBase100\": 106.89}, {\"timestamp\": \"2019-07-23T00:00:00\", \"ValorBase100\": 107.89}, {\"timestamp\": \"2019-07-24T00:00:00\", \"ValorBase100\": 109.45}, {\"timestamp\": \"2019-07-25T00:00:00\", \"ValorBase100\": 108.57}, {\"timestamp\": \"2019-07-26T00:00:00\", \"ValorBase100\": 110.52}, {\"timestamp\": \"2019-07-27T00:00:00\", \"ValorBase100\": 110.52}, {\"timestamp\": \"2019-07-28T00:00:00\", \"ValorBase100\": 110.52}, {\"timestamp\": \"2019-07-29T00:00:00\", \"ValorBase100\": 110.72}, {\"timestamp\": \"2019-07-30T00:00:00\", \"ValorBase100\": 110.15}, {\"timestamp\": \"2019-07-31T00:00:00\", \"ValorBase100\": 109.04}, {\"timestamp\": \"2019-08-01T00:00:00\", \"ValorBase100\": 108.52}, {\"timestamp\": \"2019-08-02T00:00:00\", \"ValorBase100\": 107.05}, {\"timestamp\": \"2019-08-03T00:00:00\", \"ValorBase100\": 107.05}, {\"timestamp\": \"2019-08-04T00:00:00\", \"ValorBase100\": 107.05}, {\"timestamp\": \"2019-08-05T00:00:00\", \"ValorBase100\": 103.69}, {\"timestamp\": \"2019-08-06T00:00:00\", \"ValorBase100\": 106.71}, {\"timestamp\": \"2019-08-07T00:00:00\", \"ValorBase100\": 106.43}, {\"timestamp\": \"2019-08-08T00:00:00\", \"ValorBase100\": 109.45}, {\"timestamp\": \"2019-08-09T00:00:00\", \"ValorBase100\": 106.94}, {\"timestamp\": \"2019-08-10T00:00:00\", \"ValorBase100\": 106.94}, {\"timestamp\": \"2019-08-11T00:00:00\", \"ValorBase100\": 106.93}, {\"timestamp\": \"2019-08-12T00:00:00\", \"ValorBase100\": 105.74}, {\"timestamp\": \"2019-08-13T00:00:00\", \"ValorBase100\": 109.0}, {\"timestamp\": \"2019-08-14T00:00:00\", \"ValorBase100\": 104.33}, {\"timestamp\": \"2019-08-15T00:00:00\", \"ValorBase100\": 104.14}, {\"timestamp\": \"2019-08-16T00:00:00\", \"ValorBase100\": 105.92}, {\"timestamp\": \"2019-08-17T00:00:00\", \"ValorBase100\": 105.92}, {\"timestamp\": \"2019-08-18T00:00:00\", \"ValorBase100\": 105.91}, {\"timestamp\": \"2019-08-19T00:00:00\", \"ValorBase100\": 107.42}, {\"timestamp\": \"2019-08-20T00:00:00\", \"ValorBase100\": 107.13}, {\"timestamp\": \"2019-08-21T00:00:00\", \"ValorBase100\": 108.14}, {\"timestamp\": \"2019-08-22T00:00:00\", \"ValorBase100\": 107.7}, {\"timestamp\": \"2019-08-23T00:00:00\", \"ValorBase100\": 104.77}, {\"timestamp\": \"2019-08-24T00:00:00\", \"ValorBase100\": 104.76}, {\"timestamp\": \"2019-08-25T00:00:00\", \"ValorBase100\": 104.76}, {\"timestamp\": \"2019-08-26T00:00:00\", \"ValorBase100\": 106.56}, {\"timestamp\": \"2019-08-27T00:00:00\", \"ValorBase100\": 106.62}, {\"timestamp\": \"2019-08-28T00:00:00\", \"ValorBase100\": 107.04}, {\"timestamp\": \"2019-08-29T00:00:00\", \"ValorBase100\": 109.49}, {\"timestamp\": \"2019-08-30T00:00:00\", \"ValorBase100\": 108.84}, {\"timestamp\": \"2019-08-31T00:00:00\", \"ValorBase100\": 108.83}, {\"timestamp\": \"2019-09-01T00:00:00\", \"ValorBase100\": 108.83}, {\"timestamp\": \"2019-09-02T00:00:00\", \"ValorBase100\": 108.75}, {\"timestamp\": \"2019-09-03T00:00:00\", \"ValorBase100\": 107.94}, {\"timestamp\": \"2019-09-04T00:00:00\", \"ValorBase100\": 109.86}, {\"timestamp\": \"2019-09-05T00:00:00\", \"ValorBase100\": 111.79}, {\"timestamp\": \"2019-09-06T00:00:00\", \"ValorBase100\": 110.63}, {\"timestamp\": \"2019-09-07T00:00:00\", \"ValorBase100\": 110.62}, {\"timestamp\": \"2019-09-08T01:00:00\", \"ValorBase100\": 110.62}, {\"timestamp\": \"2019-09-09T00:00:00\", \"ValorBase100\": 109.28}, {\"timestamp\": \"2019-09-10T00:00:00\", \"ValorBase100\": 109.66}, {\"timestamp\": \"2019-09-11T00:00:00\", \"ValorBase100\": 111.15}, {\"timestamp\": \"2019-09-12T00:00:00\", \"ValorBase100\": 111.36}, {\"timestamp\": \"2019-09-13T00:00:00\", \"ValorBase100\": 110.19}, {\"timestamp\": \"2019-09-14T00:00:00\", \"ValorBase100\": 110.18}, {\"timestamp\": \"2019-09-15T00:00:00\", \"ValorBase100\": 110.17}, {\"timestamp\": \"2019-09-16T00:00:00\", \"ValorBase100\": 109.36}, {\"timestamp\": \"2019-09-17T00:00:00\", \"ValorBase100\": 110.17}, {\"timestamp\": \"2019-09-18T00:00:00\", \"ValorBase100\": 111.18}, {\"timestamp\": \"2019-09-19T00:00:00\", \"ValorBase100\": 111.49}, {\"timestamp\": \"2019-09-20T00:00:00\", \"ValorBase100\": 110.39}, {\"timestamp\": \"2019-09-21T00:00:00\", \"ValorBase100\": 110.39}, {\"timestamp\": \"2019-09-22T00:00:00\", \"ValorBase100\": 110.38}, {\"timestamp\": \"2019-09-23T00:00:00\", \"ValorBase100\": 110.63}, {\"timestamp\": \"2019-09-24T00:00:00\", \"ValorBase100\": 109.94}, {\"timestamp\": \"2019-09-25T00:00:00\", \"ValorBase100\": 111.37}, {\"timestamp\": \"2019-09-26T00:00:00\", \"ValorBase100\": 112.03}, {\"timestamp\": \"2019-09-27T00:00:00\", \"ValorBase100\": 110.25}, {\"timestamp\": \"2019-09-28T00:00:00\", \"ValorBase100\": 110.24}, {\"timestamp\": \"2019-09-29T00:00:00\", \"ValorBase100\": 110.23}, {\"timestamp\": \"2019-09-30T00:00:00\", \"ValorBase100\": 111.17}, {\"timestamp\": \"2019-10-01T00:00:00\", \"ValorBase100\": 110.4}, {\"timestamp\": \"2019-10-02T00:00:00\", \"ValorBase100\": 108.59}, {\"timestamp\": \"2019-10-03T00:00:00\", \"ValorBase100\": 109.82}, {\"timestamp\": \"2019-10-04T00:00:00\", \"ValorBase100\": 110.31}, {\"timestamp\": \"2019-10-05T00:00:00\", \"ValorBase100\": 110.31}, {\"timestamp\": \"2019-10-06T00:00:00\", \"ValorBase100\": 110.3}, {\"timestamp\": \"2019-10-07T00:00:00\", \"ValorBase100\": 109.42}, {\"timestamp\": \"2019-10-08T00:00:00\", \"ValorBase100\": 107.61}, {\"timestamp\": \"2019-10-09T00:00:00\", \"ValorBase100\": 109.81}, {\"timestamp\": \"2019-10-10T00:00:00\", \"ValorBase100\": 110.88}, {\"timestamp\": \"2019-10-11T00:00:00\", \"ValorBase100\": 111.87}, {\"timestamp\": \"2019-10-12T00:00:00\", \"ValorBase100\": 111.87}, {\"timestamp\": \"2019-10-13T00:00:00\", \"ValorBase100\": 111.87}, {\"timestamp\": \"2019-10-14T00:00:00\", \"ValorBase100\": 110.66}, {\"timestamp\": \"2019-10-15T00:00:00\", \"ValorBase100\": 111.91}, {\"timestamp\": \"2019-10-16T00:00:00\", \"ValorBase100\": 111.53}, {\"timestamp\": \"2019-10-17T00:00:00\", \"ValorBase100\": 111.97}, {\"timestamp\": \"2019-10-18T00:00:00\", \"ValorBase100\": 109.92}, {\"timestamp\": \"2019-10-19T00:00:00\", \"ValorBase100\": 109.92}, {\"timestamp\": \"2019-10-20T00:00:00\", \"ValorBase100\": 109.92}, {\"timestamp\": \"2019-10-21T00:00:00\", \"ValorBase100\": 110.52}, {\"timestamp\": \"2019-10-22T00:00:00\", \"ValorBase100\": 111.49}, {\"timestamp\": \"2019-10-23T00:00:00\", \"ValorBase100\": 112.18}, {\"timestamp\": \"2019-10-24T00:00:00\", \"ValorBase100\": 113.29}, {\"timestamp\": \"2019-10-25T00:00:00\", \"ValorBase100\": 114.22}, {\"timestamp\": \"2019-10-26T00:00:00\", \"ValorBase100\": 114.22}, {\"timestamp\": \"2019-10-27T00:00:00\", \"ValorBase100\": 114.22}, {\"timestamp\": \"2019-10-28T00:00:00\", \"ValorBase100\": 116.17}, {\"timestamp\": \"2019-10-29T00:00:00\", \"ValorBase100\": 114.66}, {\"timestamp\": \"2019-10-30T00:00:00\", \"ValorBase100\": 115.54}, {\"timestamp\": \"2019-10-31T00:00:00\", \"ValorBase100\": 116.84}, {\"timestamp\": \"2019-11-01T00:00:00\", \"ValorBase100\": 118.32}, {\"timestamp\": \"2019-11-02T00:00:00\", \"ValorBase100\": 118.32}, {\"timestamp\": \"2019-11-03T00:00:00\", \"ValorBase100\": 118.32}, {\"timestamp\": \"2019-11-04T00:00:00\", \"ValorBase100\": 119.33}, {\"timestamp\": \"2019-11-05T00:00:00\", \"ValorBase100\": 119.69}, {\"timestamp\": \"2019-11-06T00:00:00\", \"ValorBase100\": 120.98}, {\"timestamp\": \"2019-11-07T00:00:00\", \"ValorBase100\": 121.54}, {\"timestamp\": \"2019-11-08T00:00:00\", \"ValorBase100\": 121.69}, {\"timestamp\": \"2019-11-09T00:00:00\", \"ValorBase100\": 121.69}, {\"timestamp\": \"2019-11-10T00:00:00\", \"ValorBase100\": 121.65}, {\"timestamp\": \"2019-11-11T00:00:00\", \"ValorBase100\": 122.47}, {\"timestamp\": \"2019-11-12T00:00:00\", \"ValorBase100\": 124.56}, {\"timestamp\": \"2019-11-13T00:00:00\", \"ValorBase100\": 129.29}, {\"timestamp\": \"2019-11-14T00:00:00\", \"ValorBase100\": 130.85}, {\"timestamp\": \"2019-11-15T00:00:00\", \"ValorBase100\": 133.37}, {\"timestamp\": \"2019-11-16T00:00:00\", \"ValorBase100\": 133.33}, {\"timestamp\": \"2019-11-17T00:00:00\", \"ValorBase100\": 133.3}, {\"timestamp\": \"2019-11-18T00:00:00\", \"ValorBase100\": 130.37}, {\"timestamp\": \"2019-11-19T00:00:00\", \"ValorBase100\": 129.0}, {\"timestamp\": \"2019-11-20T00:00:00\", \"ValorBase100\": 129.69}, {\"timestamp\": \"2019-11-21T00:00:00\", \"ValorBase100\": 131.56}, {\"timestamp\": \"2019-11-22T00:00:00\", \"ValorBase100\": 131.16}, {\"timestamp\": \"2019-11-23T00:00:00\", \"ValorBase100\": 131.12}, {\"timestamp\": \"2019-11-24T00:00:00\", \"ValorBase100\": 131.09}, {\"timestamp\": \"2019-11-25T00:00:00\", \"ValorBase100\": 133.0}, {\"timestamp\": \"2019-11-26T00:00:00\", \"ValorBase100\": 132.09}, {\"timestamp\": \"2019-11-27T00:00:00\", \"ValorBase100\": 133.07}, {\"timestamp\": \"2019-11-28T00:00:00\", \"ValorBase100\": 135.18}, {\"timestamp\": \"2019-11-29T00:00:00\", \"ValorBase100\": 138.17}, {\"timestamp\": \"2019-11-30T00:00:00\", \"ValorBase100\": 138.13}, {\"timestamp\": \"2019-12-01T00:00:00\", \"ValorBase100\": 138.09}, {\"timestamp\": \"2019-12-02T00:00:00\", \"ValorBase100\": 133.47}, {\"timestamp\": \"2019-12-03T00:00:00\", \"ValorBase100\": 131.23}, {\"timestamp\": \"2019-12-04T00:00:00\", \"ValorBase100\": 131.57}, {\"timestamp\": \"2019-12-05T00:00:00\", \"ValorBase100\": 131.01}, {\"timestamp\": \"2019-12-06T00:00:00\", \"ValorBase100\": 130.4}, {\"timestamp\": \"2019-12-07T00:00:00\", \"ValorBase100\": 130.36}, {\"timestamp\": \"2019-12-08T00:00:00\", \"ValorBase100\": 130.33}, {\"timestamp\": \"2019-12-09T00:00:00\", \"ValorBase100\": 128.85}, {\"timestamp\": \"2019-12-10T00:00:00\", \"ValorBase100\": 127.7}, {\"timestamp\": \"2019-12-11T00:00:00\", \"ValorBase100\": 129.55}, {\"timestamp\": \"2019-12-12T00:00:00\", \"ValorBase100\": 129.74}, {\"timestamp\": \"2019-12-13T00:00:00\", \"ValorBase100\": 129.58}, {\"timestamp\": \"2019-12-14T00:00:00\", \"ValorBase100\": 129.58}, {\"timestamp\": \"2019-12-15T00:00:00\", \"ValorBase100\": 129.57}, {\"timestamp\": \"2019-12-16T00:00:00\", \"ValorBase100\": 130.37}, {\"timestamp\": \"2019-12-17T00:00:00\", \"ValorBase100\": 129.38}, {\"timestamp\": \"2019-12-18T00:00:00\", \"ValorBase100\": 128.61}, {\"timestamp\": \"2019-12-19T00:00:00\", \"ValorBase100\": 128.75}, {\"timestamp\": \"2019-12-20T00:00:00\", \"ValorBase100\": 129.38}, {\"timestamp\": \"2019-12-21T00:00:00\", \"ValorBase100\": 129.38}, {\"timestamp\": \"2019-12-22T00:00:00\", \"ValorBase100\": 129.37}, {\"timestamp\": \"2019-12-23T00:00:00\", \"ValorBase100\": 129.37}, {\"timestamp\": \"2019-12-24T00:00:00\", \"ValorBase100\": 130.11}, {\"timestamp\": \"2019-12-25T00:00:00\", \"ValorBase100\": 130.1}, {\"timestamp\": \"2019-12-26T00:00:00\", \"ValorBase100\": 130.64}, {\"timestamp\": \"2019-12-27T00:00:00\", \"ValorBase100\": 129.71}, {\"timestamp\": \"2019-12-28T00:00:00\", \"ValorBase100\": 129.7}, {\"timestamp\": \"2019-12-29T00:00:00\", \"ValorBase100\": 129.7}, {\"timestamp\": \"2019-12-30T00:00:00\", \"ValorBase100\": 128.44}, {\"timestamp\": \"2019-12-31T00:00:00\", \"ValorBase100\": 129.45}, {\"timestamp\": \"2020-01-01T00:00:00\", \"ValorBase100\": 129.44}, {\"timestamp\": \"2020-01-02T00:00:00\", \"ValorBase100\": 132.12}, {\"timestamp\": \"2020-01-03T00:00:00\", \"ValorBase100\": 131.74}, {\"timestamp\": \"2020-01-04T00:00:00\", \"ValorBase100\": 131.74}, {\"timestamp\": \"2020-01-05T00:00:00\", \"ValorBase100\": 131.74}, {\"timestamp\": \"2020-01-06T00:00:00\", \"ValorBase100\": 133.3}, {\"timestamp\": \"2020-01-07T00:00:00\", \"ValorBase100\": 135.69}, {\"timestamp\": \"2020-01-08T00:00:00\", \"ValorBase100\": 137.27}, {\"timestamp\": \"2020-01-09T00:00:00\", \"ValorBase100\": 137.7}, {\"timestamp\": \"2020-01-10T00:00:00\", \"ValorBase100\": 137.09}, {\"timestamp\": \"2020-01-11T00:00:00\", \"ValorBase100\": 137.08}, {\"timestamp\": \"2020-01-12T00:00:00\", \"ValorBase100\": 137.08}, {\"timestamp\": \"2020-01-13T00:00:00\", \"ValorBase100\": 140.0}, {\"timestamp\": \"2020-01-14T00:00:00\", \"ValorBase100\": 140.45}, {\"timestamp\": \"2020-01-15T00:00:00\", \"ValorBase100\": 139.49}, {\"timestamp\": \"2020-01-16T00:00:00\", \"ValorBase100\": 141.18}, {\"timestamp\": \"2020-01-17T00:00:00\", \"ValorBase100\": 142.32}, {\"timestamp\": \"2020-01-18T00:00:00\", \"ValorBase100\": 142.32}, {\"timestamp\": \"2020-01-19T00:00:00\", \"ValorBase100\": 142.31}, {\"timestamp\": \"2020-01-20T00:00:00\", \"ValorBase100\": 141.94}, {\"timestamp\": \"2020-01-21T00:00:00\", \"ValorBase100\": 141.57}, {\"timestamp\": \"2020-01-22T00:00:00\", \"ValorBase100\": 142.16}, {\"timestamp\": \"2020-01-23T00:00:00\", \"ValorBase100\": 143.09}, {\"timestamp\": \"2020-01-24T00:00:00\", \"ValorBase100\": 142.27}, {\"timestamp\": \"2020-01-25T00:00:00\", \"ValorBase100\": 142.27}, {\"timestamp\": \"2020-01-26T00:00:00\", \"ValorBase100\": 142.27}, {\"timestamp\": \"2020-01-27T00:00:00\", \"ValorBase100\": 139.71}, {\"timestamp\": \"2020-01-28T00:00:00\", \"ValorBase100\": 144.35}, {\"timestamp\": \"2020-01-29T00:00:00\", \"ValorBase100\": 144.83}, {\"timestamp\": \"2020-01-30T00:00:00\", \"ValorBase100\": 145.43}, {\"timestamp\": \"2020-01-31T00:00:00\", \"ValorBase100\": 143.72}, {\"timestamp\": \"2020-02-01T00:00:00\", \"ValorBase100\": 143.71}, {\"timestamp\": \"2020-02-02T00:00:00\", \"ValorBase100\": 143.71}, {\"timestamp\": \"2020-02-03T00:00:00\", \"ValorBase100\": 144.3}, {\"timestamp\": \"2020-02-04T00:00:00\", \"ValorBase100\": 145.91}, {\"timestamp\": \"2020-02-05T00:00:00\", \"ValorBase100\": 145.65}, {\"timestamp\": \"2020-02-06T00:00:00\", \"ValorBase100\": 147.63}, {\"timestamp\": \"2020-02-07T00:00:00\", \"ValorBase100\": 148.33}, {\"timestamp\": \"2020-02-08T00:00:00\", \"ValorBase100\": 148.33}, {\"timestamp\": \"2020-02-09T00:00:00\", \"ValorBase100\": 148.32}, {\"timestamp\": \"2020-02-10T00:00:00\", \"ValorBase100\": 151.67}, {\"timestamp\": \"2020-02-11T00:00:00\", \"ValorBase100\": 150.61}, {\"timestamp\": \"2020-02-12T00:00:00\", \"ValorBase100\": 151.41}, {\"timestamp\": \"2020-02-13T00:00:00\", \"ValorBase100\": 152.19}, {\"timestamp\": \"2020-02-14T00:00:00\", \"ValorBase100\": 152.21}, {\"timestamp\": \"2020-02-15T00:00:00\", \"ValorBase100\": 152.18}, {\"timestamp\": \"2020-02-16T00:00:00\", \"ValorBase100\": 152.15}, {\"timestamp\": \"2020-02-17T00:00:00\", \"ValorBase100\": 151.97}, {\"timestamp\": \"2020-02-18T00:00:00\", \"ValorBase100\": 152.5}, {\"timestamp\": \"2020-02-19T00:00:00\", \"ValorBase100\": 154.1}, {\"timestamp\": \"2020-02-20T00:00:00\", \"ValorBase100\": 153.86}, {\"timestamp\": \"2020-02-21T00:00:00\", \"ValorBase100\": 151.13}, {\"timestamp\": \"2020-02-22T00:00:00\", \"ValorBase100\": 151.1}, {\"timestamp\": \"2020-02-23T00:00:00\", \"ValorBase100\": 151.07}, {\"timestamp\": \"2020-02-24T00:00:00\", \"ValorBase100\": 144.72}, {\"timestamp\": \"2020-02-25T00:00:00\", \"ValorBase100\": 140.41}, {\"timestamp\": \"2020-02-26T00:00:00\", \"ValorBase100\": 141.64}, {\"timestamp\": \"2020-02-27T00:00:00\", \"ValorBase100\": 134.76}, {\"timestamp\": \"2020-02-28T00:00:00\", \"ValorBase100\": 136.89}, {\"timestamp\": \"2020-02-29T00:00:00\", \"ValorBase100\": 136.86}, {\"timestamp\": \"2020-03-01T00:00:00\", \"ValorBase100\": 136.83}, {\"timestamp\": \"2020-03-02T00:00:00\", \"ValorBase100\": 143.11}, {\"timestamp\": \"2020-03-03T00:00:00\", \"ValorBase100\": 136.64}, {\"timestamp\": \"2020-03-04T00:00:00\", \"ValorBase100\": 142.49}, {\"timestamp\": \"2020-03-05T00:00:00\", \"ValorBase100\": 139.86}, {\"timestamp\": \"2020-03-06T00:00:00\", \"ValorBase100\": 137.52}, {\"timestamp\": \"2020-03-07T00:00:00\", \"ValorBase100\": 137.49}, {\"timestamp\": \"2020-03-08T00:00:00\", \"ValorBase100\": 137.46}, {\"timestamp\": \"2020-03-09T00:00:00\", \"ValorBase100\": 128.99}, {\"timestamp\": \"2020-03-10T00:00:00\", \"ValorBase100\": 135.76}, {\"timestamp\": \"2020-03-11T00:00:00\", \"ValorBase100\": 129.32}, {\"timestamp\": \"2020-03-12T00:00:00\", \"ValorBase100\": 118.8}, {\"timestamp\": \"2020-03-13T00:00:00\", \"ValorBase100\": 129.81}, {\"timestamp\": \"2020-03-14T00:00:00\", \"ValorBase100\": 129.79}, {\"timestamp\": \"2020-03-15T00:00:00\", \"ValorBase100\": 129.77}, {\"timestamp\": \"2020-03-16T00:00:00\", \"ValorBase100\": 113.93}, {\"timestamp\": \"2020-03-17T00:00:00\", \"ValorBase100\": 122.36}, {\"timestamp\": \"2020-03-18T00:00:00\", \"ValorBase100\": 119.3}, {\"timestamp\": \"2020-03-19T00:00:00\", \"ValorBase100\": 121.17}, {\"timestamp\": \"2020-03-20T00:00:00\", \"ValorBase100\": 114.07}, {\"timestamp\": \"2020-03-21T00:00:00\", \"ValorBase100\": 114.06}, {\"timestamp\": \"2020-03-22T00:00:00\", \"ValorBase100\": 114.05}, {\"timestamp\": \"2020-03-23T00:00:00\", \"ValorBase100\": 115.05}, {\"timestamp\": \"2020-03-24T00:00:00\", \"ValorBase100\": 123.58}, {\"timestamp\": \"2020-03-25T00:00:00\", \"ValorBase100\": 121.47}, {\"timestamp\": \"2020-03-26T00:00:00\", \"ValorBase100\": 127.8}, {\"timestamp\": \"2020-03-27T00:00:00\", \"ValorBase100\": 122.39}, {\"timestamp\": \"2020-03-28T00:00:00\", \"ValorBase100\": 122.37}, {\"timestamp\": \"2020-03-29T00:00:00\", \"ValorBase100\": 122.35}, {\"timestamp\": \"2020-03-30T00:00:00\", \"ValorBase100\": 129.08}, {\"timestamp\": \"2020-03-31T00:00:00\", \"ValorBase100\": 128.14}, {\"timestamp\": \"2020-04-01T00:00:00\", \"ValorBase100\": 123.87}, {\"timestamp\": \"2020-04-02T00:00:00\", \"ValorBase100\": 125.76}, {\"timestamp\": \"2020-04-03T00:00:00\", \"ValorBase100\": 124.09}, {\"timestamp\": \"2020-04-04T00:00:00\", \"ValorBase100\": 124.07}, {\"timestamp\": \"2020-04-05T00:00:00\", \"ValorBase100\": 124.06}, {\"timestamp\": \"2020-04-06T00:00:00\", \"ValorBase100\": 132.48}, {\"timestamp\": \"2020-04-07T00:00:00\", \"ValorBase100\": 129.91}, {\"timestamp\": \"2020-04-08T00:00:00\", \"ValorBase100\": 135.09}]}}, {\"mode\": \"vega-lite\"});\n",
       "</script>"
      ],
      "text/plain": [
       "alt.Chart(...)"
      ]
     },
     "execution_count": 5,
     "metadata": {},
     "output_type": "execute_result"
    }
   ],
   "source": [
    "alt.Chart(tecnologico_df).mark_line().encode(x='timestamp:T', y='ValorBase100:Q')"
   ]
  }
 ],
 "metadata": {
  "kernelspec": {
   "display_name": "Python 3",
   "language": "python",
   "name": "python3"
  },
  "language_info": {
   "codemirror_mode": {
    "name": "ipython",
    "version": 3
   },
   "file_extension": ".py",
   "mimetype": "text/x-python",
   "name": "python",
   "nbconvert_exporter": "python",
   "pygments_lexer": "ipython3",
   "version": "3.6.8"
  }
 },
 "nbformat": 4,
 "nbformat_minor": 4
}
